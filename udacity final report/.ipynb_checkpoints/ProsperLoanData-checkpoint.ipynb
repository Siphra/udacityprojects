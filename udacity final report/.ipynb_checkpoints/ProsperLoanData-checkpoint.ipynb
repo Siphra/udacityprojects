{
 "cells": [
  {
   "cell_type": "code",
   "execution_count": 1,
   "metadata": {},
   "outputs": [],
   "source": [
    "# Import modules \n",
    "import pandas as pd\n",
    "import numpy as np\n",
    "import matplotlib.pyplot as plt\n",
    "import seaborn as sns"
   ]
  },
  {
   "cell_type": "code",
   "execution_count": 2,
   "metadata": {},
   "outputs": [
    {
     "ename": "FileNotFoundError",
     "evalue": "[Errno 2] No such file or directory: 'I:\\\\Python\\\\PycharmProjects\\\\udacityproject1\\\\udacity final report\\\\prosperLoanData.csv'",
     "output_type": "error",
     "traceback": [
      "\u001b[1;31m---------------------------------------------------------------------------\u001b[0m",
      "\u001b[1;31mFileNotFoundError\u001b[0m                         Traceback (most recent call last)",
      "\u001b[1;32m<ipython-input-2-00737edcbf46>\u001b[0m in \u001b[0;36m<module>\u001b[1;34m\u001b[0m\n\u001b[0;32m      1\u001b[0m \u001b[1;31m# bring in dataframe\u001b[0m\u001b[1;33m\u001b[0m\u001b[1;33m\u001b[0m\u001b[1;33m\u001b[0m\u001b[0m\n\u001b[1;32m----> 2\u001b[1;33m \u001b[0mdf\u001b[0m \u001b[1;33m=\u001b[0m \u001b[0mpd\u001b[0m\u001b[1;33m.\u001b[0m\u001b[0mread_csv\u001b[0m\u001b[1;33m(\u001b[0m\u001b[1;34mr'I:\\Python\\PycharmProjects\\udacityproject1\\udacity final report\\prosperLoanData.csv'\u001b[0m\u001b[1;33m)\u001b[0m\u001b[1;33m\u001b[0m\u001b[1;33m\u001b[0m\u001b[0m\n\u001b[0m\u001b[0;32m      3\u001b[0m \u001b[0mdf\u001b[0m\u001b[1;33m.\u001b[0m\u001b[0mhead\u001b[0m\u001b[1;33m(\u001b[0m\u001b[1;33m)\u001b[0m\u001b[1;33m\u001b[0m\u001b[1;33m\u001b[0m\u001b[0m\n",
      "\u001b[1;32m~\\anaconda3\\lib\\site-packages\\pandas\\io\\parsers.py\u001b[0m in \u001b[0;36mread_csv\u001b[1;34m(filepath_or_buffer, sep, delimiter, header, names, index_col, usecols, squeeze, prefix, mangle_dupe_cols, dtype, engine, converters, true_values, false_values, skipinitialspace, skiprows, skipfooter, nrows, na_values, keep_default_na, na_filter, verbose, skip_blank_lines, parse_dates, infer_datetime_format, keep_date_col, date_parser, dayfirst, cache_dates, iterator, chunksize, compression, thousands, decimal, lineterminator, quotechar, quoting, doublequote, escapechar, comment, encoding, dialect, error_bad_lines, warn_bad_lines, delim_whitespace, low_memory, memory_map, float_precision)\u001b[0m\n\u001b[0;32m    684\u001b[0m     )\n\u001b[0;32m    685\u001b[0m \u001b[1;33m\u001b[0m\u001b[0m\n\u001b[1;32m--> 686\u001b[1;33m     \u001b[1;32mreturn\u001b[0m \u001b[0m_read\u001b[0m\u001b[1;33m(\u001b[0m\u001b[0mfilepath_or_buffer\u001b[0m\u001b[1;33m,\u001b[0m \u001b[0mkwds\u001b[0m\u001b[1;33m)\u001b[0m\u001b[1;33m\u001b[0m\u001b[1;33m\u001b[0m\u001b[0m\n\u001b[0m\u001b[0;32m    687\u001b[0m \u001b[1;33m\u001b[0m\u001b[0m\n\u001b[0;32m    688\u001b[0m \u001b[1;33m\u001b[0m\u001b[0m\n",
      "\u001b[1;32m~\\anaconda3\\lib\\site-packages\\pandas\\io\\parsers.py\u001b[0m in \u001b[0;36m_read\u001b[1;34m(filepath_or_buffer, kwds)\u001b[0m\n\u001b[0;32m    450\u001b[0m \u001b[1;33m\u001b[0m\u001b[0m\n\u001b[0;32m    451\u001b[0m     \u001b[1;31m# Create the parser.\u001b[0m\u001b[1;33m\u001b[0m\u001b[1;33m\u001b[0m\u001b[1;33m\u001b[0m\u001b[0m\n\u001b[1;32m--> 452\u001b[1;33m     \u001b[0mparser\u001b[0m \u001b[1;33m=\u001b[0m \u001b[0mTextFileReader\u001b[0m\u001b[1;33m(\u001b[0m\u001b[0mfp_or_buf\u001b[0m\u001b[1;33m,\u001b[0m \u001b[1;33m**\u001b[0m\u001b[0mkwds\u001b[0m\u001b[1;33m)\u001b[0m\u001b[1;33m\u001b[0m\u001b[1;33m\u001b[0m\u001b[0m\n\u001b[0m\u001b[0;32m    453\u001b[0m \u001b[1;33m\u001b[0m\u001b[0m\n\u001b[0;32m    454\u001b[0m     \u001b[1;32mif\u001b[0m \u001b[0mchunksize\u001b[0m \u001b[1;32mor\u001b[0m \u001b[0miterator\u001b[0m\u001b[1;33m:\u001b[0m\u001b[1;33m\u001b[0m\u001b[1;33m\u001b[0m\u001b[0m\n",
      "\u001b[1;32m~\\anaconda3\\lib\\site-packages\\pandas\\io\\parsers.py\u001b[0m in \u001b[0;36m__init__\u001b[1;34m(self, f, engine, **kwds)\u001b[0m\n\u001b[0;32m    944\u001b[0m             \u001b[0mself\u001b[0m\u001b[1;33m.\u001b[0m\u001b[0moptions\u001b[0m\u001b[1;33m[\u001b[0m\u001b[1;34m\"has_index_names\"\u001b[0m\u001b[1;33m]\u001b[0m \u001b[1;33m=\u001b[0m \u001b[0mkwds\u001b[0m\u001b[1;33m[\u001b[0m\u001b[1;34m\"has_index_names\"\u001b[0m\u001b[1;33m]\u001b[0m\u001b[1;33m\u001b[0m\u001b[1;33m\u001b[0m\u001b[0m\n\u001b[0;32m    945\u001b[0m \u001b[1;33m\u001b[0m\u001b[0m\n\u001b[1;32m--> 946\u001b[1;33m         \u001b[0mself\u001b[0m\u001b[1;33m.\u001b[0m\u001b[0m_make_engine\u001b[0m\u001b[1;33m(\u001b[0m\u001b[0mself\u001b[0m\u001b[1;33m.\u001b[0m\u001b[0mengine\u001b[0m\u001b[1;33m)\u001b[0m\u001b[1;33m\u001b[0m\u001b[1;33m\u001b[0m\u001b[0m\n\u001b[0m\u001b[0;32m    947\u001b[0m \u001b[1;33m\u001b[0m\u001b[0m\n\u001b[0;32m    948\u001b[0m     \u001b[1;32mdef\u001b[0m \u001b[0mclose\u001b[0m\u001b[1;33m(\u001b[0m\u001b[0mself\u001b[0m\u001b[1;33m)\u001b[0m\u001b[1;33m:\u001b[0m\u001b[1;33m\u001b[0m\u001b[1;33m\u001b[0m\u001b[0m\n",
      "\u001b[1;32m~\\anaconda3\\lib\\site-packages\\pandas\\io\\parsers.py\u001b[0m in \u001b[0;36m_make_engine\u001b[1;34m(self, engine)\u001b[0m\n\u001b[0;32m   1176\u001b[0m     \u001b[1;32mdef\u001b[0m \u001b[0m_make_engine\u001b[0m\u001b[1;33m(\u001b[0m\u001b[0mself\u001b[0m\u001b[1;33m,\u001b[0m \u001b[0mengine\u001b[0m\u001b[1;33m=\u001b[0m\u001b[1;34m\"c\"\u001b[0m\u001b[1;33m)\u001b[0m\u001b[1;33m:\u001b[0m\u001b[1;33m\u001b[0m\u001b[1;33m\u001b[0m\u001b[0m\n\u001b[0;32m   1177\u001b[0m         \u001b[1;32mif\u001b[0m \u001b[0mengine\u001b[0m \u001b[1;33m==\u001b[0m \u001b[1;34m\"c\"\u001b[0m\u001b[1;33m:\u001b[0m\u001b[1;33m\u001b[0m\u001b[1;33m\u001b[0m\u001b[0m\n\u001b[1;32m-> 1178\u001b[1;33m             \u001b[0mself\u001b[0m\u001b[1;33m.\u001b[0m\u001b[0m_engine\u001b[0m \u001b[1;33m=\u001b[0m \u001b[0mCParserWrapper\u001b[0m\u001b[1;33m(\u001b[0m\u001b[0mself\u001b[0m\u001b[1;33m.\u001b[0m\u001b[0mf\u001b[0m\u001b[1;33m,\u001b[0m \u001b[1;33m**\u001b[0m\u001b[0mself\u001b[0m\u001b[1;33m.\u001b[0m\u001b[0moptions\u001b[0m\u001b[1;33m)\u001b[0m\u001b[1;33m\u001b[0m\u001b[1;33m\u001b[0m\u001b[0m\n\u001b[0m\u001b[0;32m   1179\u001b[0m         \u001b[1;32melse\u001b[0m\u001b[1;33m:\u001b[0m\u001b[1;33m\u001b[0m\u001b[1;33m\u001b[0m\u001b[0m\n\u001b[0;32m   1180\u001b[0m             \u001b[1;32mif\u001b[0m \u001b[0mengine\u001b[0m \u001b[1;33m==\u001b[0m \u001b[1;34m\"python\"\u001b[0m\u001b[1;33m:\u001b[0m\u001b[1;33m\u001b[0m\u001b[1;33m\u001b[0m\u001b[0m\n",
      "\u001b[1;32m~\\anaconda3\\lib\\site-packages\\pandas\\io\\parsers.py\u001b[0m in \u001b[0;36m__init__\u001b[1;34m(self, src, **kwds)\u001b[0m\n\u001b[0;32m   2006\u001b[0m         \u001b[0mkwds\u001b[0m\u001b[1;33m[\u001b[0m\u001b[1;34m\"usecols\"\u001b[0m\u001b[1;33m]\u001b[0m \u001b[1;33m=\u001b[0m \u001b[0mself\u001b[0m\u001b[1;33m.\u001b[0m\u001b[0musecols\u001b[0m\u001b[1;33m\u001b[0m\u001b[1;33m\u001b[0m\u001b[0m\n\u001b[0;32m   2007\u001b[0m \u001b[1;33m\u001b[0m\u001b[0m\n\u001b[1;32m-> 2008\u001b[1;33m         \u001b[0mself\u001b[0m\u001b[1;33m.\u001b[0m\u001b[0m_reader\u001b[0m \u001b[1;33m=\u001b[0m \u001b[0mparsers\u001b[0m\u001b[1;33m.\u001b[0m\u001b[0mTextReader\u001b[0m\u001b[1;33m(\u001b[0m\u001b[0msrc\u001b[0m\u001b[1;33m,\u001b[0m \u001b[1;33m**\u001b[0m\u001b[0mkwds\u001b[0m\u001b[1;33m)\u001b[0m\u001b[1;33m\u001b[0m\u001b[1;33m\u001b[0m\u001b[0m\n\u001b[0m\u001b[0;32m   2009\u001b[0m         \u001b[0mself\u001b[0m\u001b[1;33m.\u001b[0m\u001b[0munnamed_cols\u001b[0m \u001b[1;33m=\u001b[0m \u001b[0mself\u001b[0m\u001b[1;33m.\u001b[0m\u001b[0m_reader\u001b[0m\u001b[1;33m.\u001b[0m\u001b[0munnamed_cols\u001b[0m\u001b[1;33m\u001b[0m\u001b[1;33m\u001b[0m\u001b[0m\n\u001b[0;32m   2010\u001b[0m \u001b[1;33m\u001b[0m\u001b[0m\n",
      "\u001b[1;32mpandas\\_libs\\parsers.pyx\u001b[0m in \u001b[0;36mpandas._libs.parsers.TextReader.__cinit__\u001b[1;34m()\u001b[0m\n",
      "\u001b[1;32mpandas\\_libs\\parsers.pyx\u001b[0m in \u001b[0;36mpandas._libs.parsers.TextReader._setup_parser_source\u001b[1;34m()\u001b[0m\n",
      "\u001b[1;31mFileNotFoundError\u001b[0m: [Errno 2] No such file or directory: 'I:\\\\Python\\\\PycharmProjects\\\\udacityproject1\\\\udacity final report\\\\prosperLoanData.csv'"
     ]
    }
   ],
   "source": [
    "# bring in dataframe \n",
    "df = pd.read_csv(r'I:\\Python\\PycharmProjects\\udacityproject1\\udacity final report\\prosperLoanData.csv')\n",
    "df.head()"
   ]
  },
  {
   "cell_type": "code",
   "execution_count": null,
   "metadata": {},
   "outputs": [],
   "source": [
    "df.shape"
   ]
  },
  {
   "cell_type": "code",
   "execution_count": null,
   "metadata": {},
   "outputs": [],
   "source": [
    "df.columns"
   ]
  },
  {
   "cell_type": "code",
   "execution_count": null,
   "metadata": {},
   "outputs": [],
   "source": [
    "df.info()"
   ]
  },
  {
   "cell_type": "code",
   "execution_count": null,
   "metadata": {},
   "outputs": [],
   "source": [
    "df.nunique()"
   ]
  },
  {
   "cell_type": "markdown",
   "metadata": {},
   "source": [
    "### Initial pass thoughts\n",
    "This needs to be broken into multiple dataframes during cleaning process\n",
    "Large numbers of columns have 'Nulls', this may or may not be a problem later\n",
    "Need to identify the columns that should be together. \n",
    "\n",
    "#### I intend to use the column \"ListingKey\" as the reference point for all other dataframes as it is a full column. \n"
   ]
  },
  {
   "cell_type": "code",
   "execution_count": null,
   "metadata": {},
   "outputs": [],
   "source": [
    "# This cell for checking each row before making the corrections list below, the code varied row by row\n",
    "df['ProsperRating (numeric)'].value_counts()"
   ]
  },
  {
   "cell_type": "markdown",
   "metadata": {},
   "source": [
    "#### Cleaning items list:\n",
    "* CreditGrade should be categorical and orderd\n",
    "** AA, A, B, C, D, E, NC, HR\n",
    "** NC (Likely for 'No Credit') is higher than HR (Likely for 'High Risk')\n",
    "** CreditGrade and ProsperRating (Alpha) should possibly be combined into one column\n",
    "* ListingCreationDate should be a datetime datatype\n",
    "* ClosedDate should be a datetime datatype\n",
    "* ProsperRating (numeric)could be converted to int format maybe\n",
    "* ProsperRating (Alpha) should be categorical and ordered\n",
    "** AA, A, B, C, D, E, HR\n",
    "** ProsperRating (Alpha) and CreditGrade should possibly be combined into one column for analysis\n",
    "* DateCreditPulled should be a datetime datatype\n",
    "* Employment status should be categorical and ordered\n",
    "** Employed, Full-time, Self-employed, Part-time, Retired, Not employed, Other, Not available\n",
    "* DateCreditPulled should be a datetime datatype\n",
    "* CurrentCreditLines should be an int data type\n",
    "* OpenCreditLines      \"    \"  \"   \"   \"   \" \n",
    "* TotalCreditLinespast7years \" \" \" \"   \"   \" \n",
    "* InquiriesLast6Months \"    \"  \"   \"   \"   \" \n",
    "* InquiriesLast6Months \"    \"  \"   \"   \"   \" \n",
    "* CurrentDelinquencies \"    \"  \"   \"   \"   \"\n",
    "* DelinquenciesLast7Years \"    \"  \"   \"   \"   \"         \n",
    "* PublicRecordsLast10Years\"    \"  \"   \"   \"   \"           \n",
    "* PublicRecordsLast12Months\"    \"  \"   \"   \"   \" \n",
    "* TotalTrades\"    \"  \"   \"   \"   \"\n",
    "* TradesOpenedLast6Months\"    \"  \"   \"   \"   \"\n",
    "* IncomeRange should be a categorical data type and ordered\n",
    "** 100,000+, 75,000-99,999, 50,000-74,999, 25,000-49,999, 1-24,999, 0, Not displayed, Not employed\n",
    "* TotalProsperLoans  should be an int data type\n",
    "* OnTimeProsperPayments \"    \"  \"   \"   \"   \"\n",
    "* ProsperPaymentsLessThanOneMonthLate \n",
    "* ProsperPaymentsOneMonthPlusLate \n",
    "* LoanFirstDefaultedCycleNumber\n",
    "* LoanOriginationDate should be a datetime datatype\n",
    "\n",
    "* Nulls will need to be dealt with as well.\n",
    "\n",
    "#### Tidying list :\n",
    "The following columns should be grouped together before changes are made (colors are used in Excel to group\n",
    "prospective dataframes for intial pass to reduce each to a single observational unit):\n",
    "\n",
    "\n",
    "* ListingKey (Yellow)\n",
    "** ListingNumber\n",
    "** ListingCreationDate\n",
    "** ProsperPrincipalBorrowed\n",
    "** ProsperPrincipalOutstanding\n",
    "** MemberKey\n",
    "** MonthlyLoanPayment\n",
    "** PercentFunded\n",
    "** Recommendations\n",
    "** InvestmentFromFriendsCount\n",
    "** InvestmentFromFriendsAmount\n",
    "** Investors\n",
    "\n",
    "\n",
    "* CreditGrade (Olive)\n",
    "** ListingKey\n",
    "** ProsperRating(numeric/Alpha)\n",
    "** DateCreditPulled\n",
    "** CreditScoreRange(Lower/Upper)\n",
    "** ScorexChangeAtTimeOfListing\n",
    "\n",
    "\n",
    "* BorrowerAPR (Orange)\n",
    "** ListingKey\n",
    "** BorrowerRate\n",
    "** LenderYield\n",
    "** EstimatedEffectiveYield\n",
    "** EstimatedLoss\n",
    "** EstimatedReturn\n",
    "** ProsperScore\n",
    "\n",
    "\n",
    "* BorrowerState (Flesh)\n",
    "** ListingKey\n",
    "** IsBorrowerHomeowner\n",
    "** ListingCategory\n",
    "\n",
    "\n",
    "* CurrentlyInGroup (dark blue)\n",
    "** ListingKey\n",
    "** GroupKey\n",
    "\n",
    "\n",
    "* FirstRecordedCreditLine (red)\n",
    "** ListingKey\n",
    "** CurrentCreditLines\n",
    "** OpenCreditLines\n",
    "** TotalCreditLinespast7years\n",
    "** OpenRevolvingAccounts\n",
    "** OpenRevolvingMonthlyPayment\n",
    "** RevolvingCreditBalance\n",
    "** BankcardUtilization\n",
    "** AvailableBankcardCredit\n",
    "\n",
    "\n",
    "* InquiriesLast6Months (pink)\n",
    "** ListingKey\n",
    "** TotalInquiries\n",
    "** CurrentDelinquencies\n",
    "\n",
    "\n",
    "* AmountDelinquent (grey)\n",
    "** ListingKey\n",
    "** DelinquenciesLast7Years\n",
    "** DebtToIncomeRatio\n",
    "** ProsperPaymentsLessThanOneMonthLate\n",
    "** ProsperPaymentsOneMonthPlusLate\n",
    "** LoanCurrentDaysDelinquent\n",
    "** LoanFirstDefaultedCycleNumber\n",
    "** LoanMonthsSinceOrigination\n",
    "** LoanNumber\n",
    "** LoanOriginalAmount\n",
    "** LoanOriginationDate\n",
    "** LoanOriginationQuarter\n",
    "\n",
    "\n",
    "* Term (white)\n",
    "** ListingKey\n",
    "** LoanStatus\n",
    "** ClosedDate\n",
    "\n",
    "\n",
    "* LoanKey (lblue)\n",
    "** ListingKey\n",
    "** TotalProsperLoans\n",
    "** TotalProsperPaymentsBilled\n",
    "** OnTimeProsperPayments\n",
    "** LP_CustomerPayments\n",
    "** LP_CustomerPrincipalPayments\n",
    "** LP_InterestandFees\n",
    "** LP_ServiceFees\n",
    "** LP_CollectionFees\n",
    "** LP_GrossPrincipalLoss\n",
    "** LP_NetPrincipalLoss\n",
    "** LP_NonPrincipalRecoverypayments"
   ]
  },
  {
   "cell_type": "markdown",
   "metadata": {},
   "source": [
    "#### Initial Dataframe organization block"
   ]
  },
  {
   "cell_type": "code",
   "execution_count": null,
   "metadata": {},
   "outputs": [],
   "source": [
    "# First create the individual dataframes, all modifications of data type can be done on the copies.\n",
    "# Lists by color group to form appropriate dataframes.\n",
    "yellow = ['ListingKey', 'ListingNumber','ListingCreationDate','ProsperPrincipalBorrowed',\n",
    "          'ProsperPrincipalOutstanding','MemberKey','PercentFunded',\n",
    "          'Recommendations','InvestmentFromFriendsCount','InvestmentFromFriendsAmount','Investors']\n",
    "olive = ['CreditGrade','ListingKey','ProsperRating (numeric)','ProsperRating (Alpha)','DateCreditPulled',\n",
    "         'CreditScoreRangeLower', 'CreditScoreRangeUpper','ScorexChangeAtTimeOfListing', 'ProsperScore', \n",
    "         'PublicRecordsLast12Months','PublicRecordsLast10Years']\n",
    "orange = ['ListingKey','BorrowerRate','LenderYield','EstimatedEffectiveYield','EstimatedLoss','EstimatedReturn']\n",
    "flesh = ['ListingKey','IsBorrowerHomeowner','ListingCategory (numeric)']\n",
    "dblue = ['ListingKey','CurrentlyInGroup','GroupKey']\n",
    "red = ['ListingKey','CurrentCreditLines','OpenCreditLines','TotalCreditLinespast7years',\n",
    "       'OpenRevolvingAccounts','OpenRevolvingMonthlyPayment','RevolvingCreditBalance',\n",
    "       'BankcardUtilization','AvailableBankcardCredit']\n",
    "pink = ['InquiriesLast6Months','ListingKey','TotalInquiries','CurrentDelinquencies']\n",
    "grey = ['ListingKey','DelinquenciesLast7Years','DebtToIncomeRatio','ProsperPaymentsLessThanOneMonthLate',\n",
    "        'ProsperPaymentsOneMonthPlusLate','LoanCurrentDaysDelinquent','LoanFirstDefaultedCycleNumber',\n",
    "        'LoanMonthsSinceOrigination','LoanNumber','LoanOriginalAmount','LoanOriginationDate',\n",
    "        'LoanOriginationQuarter']\n",
    "white = ['Term','ListingKey','LoanStatus','ClosedDate']\n",
    "brown = ['ListingKey','IncomeRange','IncomeVerifiable','StatedMonthlyIncome']\n",
    "dgreen = ['ListingKey','TotalTrades','TradesNeverDelinquent (percentage)','TradesOpenedLast6Months']\n",
    "lblue = ['ListingKey', 'LoanKey', 'TotalProsperLoans', 'TotalProsperPaymentsBilled', 'OnTimeProsperPayments',\n",
    "         'MonthlyLoanPayment', 'LP_CustomerPayments','LP_CustomerPrincipalPayments','LP_InterestandFees',\n",
    "         'LP_ServiceFees','LP_CollectionFees','LP_GrossPrincipalLoss','LP_NetPrincipalLoss',\n",
    "         'LP_NonPrincipalRecoverypayments',]\n",
    "purple = ['ListingKey', 'Occupation', 'EmploymentStatus', 'EmploymentStatusDuration']"
   ]
  },
  {
   "cell_type": "code",
   "execution_count": null,
   "metadata": {},
   "outputs": [],
   "source": [
    "# Use lists to create dataframes based on desired observation columns. \n",
    "df_Funded = df[yellow].copy()\n",
    "df_CScore = df[olive].copy()\n",
    "df_Rate = df[orange].copy()\n",
    "df_List = df[flesh].copy()\n",
    "df_Group = df[dblue].copy()\n",
    "df_Revolv = df[red].copy()\n",
    "df_Delinquent = df[pink].copy()\n",
    "df_Amount = df[grey].copy()\n",
    "df_Status = df[white].copy()\n",
    "df_Trades = df[dgreen].copy()\n",
    "df_Income = df[brown].copy()\n",
    "df_Payments = df[lblue].copy()\n",
    "df_Employment = df[purple].copy()"
   ]
  },
  {
   "cell_type": "code",
   "execution_count": null,
   "metadata": {},
   "outputs": [],
   "source": [
    "#Check manageablility of dataframe\n",
    "print(df_Funded.shape)\n",
    "print(df_CScore.shape)\n",
    "print(df_Rate.shape)\n",
    "print(df_List.shape)\n",
    "print(df_Group.shape)\n",
    "print(df_Revolv.shape)\n",
    "print(df_Delinquent.shape)\n",
    "print(df_Amount.shape)\n",
    "print(df_Status.shape)\n",
    "print(df_Trades.shape)\n",
    "print(df_Income.shape)\n",
    "print(df_Payments.shape)\n",
    "print(df_Employment.shape)"
   ]
  },
  {
   "cell_type": "markdown",
   "metadata": {},
   "source": [
    "#### Datatype correction block"
   ]
  },
  {
   "cell_type": "code",
   "execution_count": null,
   "metadata": {},
   "outputs": [],
   "source": [
    "# correct datatypes as listed above\n",
    "# Create categorical lists\n",
    "#For CreditGrade & ProsperRating (Alpha)\n",
    "alpha_ratings = ['AA','A','B','C','D','E','NC','HR']\n",
    "alrat = pd.CategoricalDtype(categories = alpha_ratings, ordered = True)\n",
    "#For Employment status\n",
    "emp_status = ['Employed', 'Full-Time', 'Self-Employed', 'Part-Time', 'Retired', 'Not employed',\n",
    "              'Other', 'Not available']\n",
    "empstat = pd.CategoricalDtype(categories = emp_status, ordered = True)\n",
    "#For Income Range\n",
    "inc_range = ['100,000+', '75,000-99,999', '50,000-74,999', '25,000-49,999', '1-24,999', '0',\n",
    "            'Not displayed', 'Not employed']\n",
    "incran = pd.CategoricalDtype(categories = inc_range, ordered = True)"
   ]
  },
  {
   "cell_type": "code",
   "execution_count": null,
   "metadata": {},
   "outputs": [],
   "source": [
    "#alter datatypes in dataframes\n",
    "# df_Funded\n",
    "df_Funded.ListingCreationDate = pd.to_datetime(df_Funded.ListingCreationDate)\n",
    "df_Funded['ProsperPrincipalBorrowed'].fillna(value = 0, inplace = True)\n",
    "df_Funded['ProsperPrincipalOutstanding'].fillna(value = 0, inplace = True)"
   ]
  },
  {
   "cell_type": "code",
   "execution_count": null,
   "metadata": {},
   "outputs": [],
   "source": [
    "# alter datatypes in dataframes\n",
    "#df_CScore\n",
    "df_CScore.CreditGrade = df_CScore.CreditGrade.astype(alrat)\n",
    "df_CScore['ProsperRating (Alpha)'] = df_CScore['ProsperRating (Alpha)'].astype(alrat)\n",
    "df_CScore.DateCreditPulled = pd.to_datetime(df_CScore.DateCreditPulled)\n",
    "# fillna for na values in 'ProsperRating'\n",
    "df_CScore['ProsperRating (numeric)'].fillna(value = 0, inplace = True)\n",
    "df_CScore['ProsperRating (numeric)'] = df_CScore['ProsperRating (numeric)'].astype(int)\n",
    "df_CScore['PublicRecordsLast10Years'].fillna(value = 0, inplace = True)\n",
    "df_CScore['PublicRecordsLast12Months'].fillna(value = 0, inplace = True)\n",
    "df_CScore['PublicRecordsLast10Years'] = df_CScore['PublicRecordsLast10Years'].astype(int)\n",
    "df_CScore['PublicRecordsLast12Months'] = df_CScore['PublicRecordsLast12Months'].astype(int)\n",
    "df_CScore['ScorexChangeAtTimeOfListing'].fillna(value = 0, inplace = True)\n",
    "df_CScore['ProsperScore'].fillna(value = 0, inplace = True)\n",
    "df_CScore['ProsperScore'] = df_CScore['ProsperScore'].astype(int)"
   ]
  },
  {
   "cell_type": "code",
   "execution_count": null,
   "metadata": {},
   "outputs": [],
   "source": [
    "# df_revolv fix datatypes\n",
    "df_Revolv['CurrentCreditLines'].fillna(value = 0, inplace = True)\n",
    "df_Revolv['OpenCreditLines'].fillna(value = 0, inplace = True)\n",
    "df_Revolv['TotalCreditLinespast7years'].fillna(value = 0, inplace = True)\n",
    "df_Revolv['OpenRevolvingAccounts'].fillna(value = 0, inplace = True)\n",
    "df_Revolv['CurrentCreditLines'] = df_Revolv['CurrentCreditLines'].astype(int)\n",
    "df_Revolv['OpenCreditLines'] = df_Revolv['OpenCreditLines'].astype(int)\n",
    "df_Revolv['TotalCreditLinespast7years'] = df_Revolv['TotalCreditLinespast7years'].astype(int)\n",
    "df_Revolv['OpenRevolvingAccounts'] = df_Revolv['OpenRevolvingAccounts'].astype(int)\n"
   ]
  },
  {
   "cell_type": "code",
   "execution_count": null,
   "metadata": {},
   "outputs": [],
   "source": [
    "# df_delinquent fix data types\n",
    "df_Delinquent['CurrentDelinquencies'].fillna(value = 0, inplace = True)\n",
    "df_Delinquent['InquiriesLast6Months'].fillna(value = 0, inplace = True)\n",
    "df_Delinquent['CurrentDelinquencies'] = df_Delinquent['CurrentDelinquencies'].astype(int)\n",
    "df_Delinquent['InquiriesLast6Months'] = df_Delinquent['InquiriesLast6Months'].astype(int)"
   ]
  },
  {
   "cell_type": "code",
   "execution_count": null,
   "metadata": {},
   "outputs": [],
   "source": [
    "#df_amount fix datatypes\n",
    "df_Amount['DelinquenciesLast7Years'].fillna(value = 0, inplace = True)\n",
    "df_Amount['DelinquenciesLast7Years'] = df_Amount['DelinquenciesLast7Years'].astype(int)\n",
    "df_Amount['ProsperPaymentsLessThanOneMonthLate'].fillna(value = 0, inplace = True)\n",
    "df_Amount['ProsperPaymentsLessThanOneMonthLate'] = df_Amount['ProsperPaymentsLessThanOneMonthLate'].astype(int)\n",
    "df_Amount['ProsperPaymentsOneMonthPlusLate'].fillna(value = 0, inplace = True)\n",
    "df_Amount['ProsperPaymentsOneMonthPlusLate'] = df_Amount['ProsperPaymentsOneMonthPlusLate'].astype(int)\n",
    "df_Amount['LoanFirstDefaultedCycleNumber'].fillna(value = 0, inplace = True)\n",
    "df_Amount['LoanFirstDefaultedCycleNumber'] = df_Amount['LoanFirstDefaultedCycleNumber'].astype(int)\n",
    "df_Amount['LoanOriginationDate'] = pd.to_datetime(df_Amount['LoanOriginationDate'])"
   ]
  },
  {
   "cell_type": "code",
   "execution_count": null,
   "metadata": {},
   "outputs": [],
   "source": [
    "# df_trades fix datatypes\n",
    "df_Trades['TotalTrades'].fillna(value = 0 , inplace = True)\n",
    "df_Trades['TradesOpenedLast6Months'].fillna(value = 0, inplace = True)\n",
    "df_Trades['TotalTrades'] = df_Trades['TotalTrades'].astype(int)\n",
    "df_Trades['TradesOpenedLast6Months'] = df_Trades['TradesOpenedLast6Months'].astype(int)"
   ]
  },
  {
   "cell_type": "code",
   "execution_count": null,
   "metadata": {},
   "outputs": [],
   "source": [
    "# df_payments fix datatypes\n",
    "df_Payments['TotalProsperLoans'].fillna(value = 0, inplace = True)\n",
    "df_Payments['TotalProsperPaymentsBilled'].fillna(value = 0, inplace = True)\n",
    "df_Payments['OnTimeProsperPayments'].fillna(value = 0, inplace = True)\n",
    "df_Payments['TotalProsperLoans'] = df_Payments['TotalProsperLoans'].astype(int)\n",
    "df_Payments['TotalProsperPaymentsBilled'] = df_Payments['TotalProsperPaymentsBilled'].astype(int)\n",
    "df_Payments['OnTimeProsperPayments'] = df_Payments['OnTimeProsperPayments'].astype(int)"
   ]
  },
  {
   "cell_type": "markdown",
   "metadata": {},
   "source": [
    "#### Null correction block"
   ]
  },
  {
   "cell_type": "code",
   "execution_count": null,
   "metadata": {},
   "outputs": [],
   "source": [
    "# check for remaining nulls\n",
    "print(df_Funded.info())\n",
    "print(df_CScore.info())\n",
    "print(df_Rate.info())\n",
    "print(df_List.info())\n",
    "print(df_Group.info())\n",
    "print(df_Revolv.info())\n",
    "print(df_Delinquent.info())\n",
    "print(df_Amount.info())\n",
    "print(df_Status.info())\n",
    "print(df_Trades.info())\n",
    "print(df_Income.info())\n",
    "print(df_Payments.info())\n",
    "print(df_Employment.info())"
   ]
  },
  {
   "cell_type": "code",
   "execution_count": null,
   "metadata": {},
   "outputs": [],
   "source": [
    "#create combined CreditGrade and ProsperRating (Alpha) column\n",
    "df_CScore['combRating'] = df_CScore.CreditGrade.fillna(df_CScore['ProsperRating (Alpha)'])"
   ]
  },
  {
   "cell_type": "code",
   "execution_count": null,
   "metadata": {},
   "outputs": [],
   "source": [
    "#fill na in combRating column\n",
    "df_CScore.combRating.fillna(value = 'NC', inplace = True)"
   ]
  },
  {
   "cell_type": "code",
   "execution_count": null,
   "metadata": {},
   "outputs": [],
   "source": [
    "#drop CreditGrade and ProsperRating (Alpha) columns\n",
    "df_CScore.drop(columns = ['CreditGrade','ProsperRating (Alpha)'], inplace = True)"
   ]
  },
  {
   "cell_type": "code",
   "execution_count": null,
   "metadata": {},
   "outputs": [],
   "source": [
    "# fill creditscorerange(lower/upper) nulls and create delta column\n",
    "df_CScore.CreditScoreRangeLower.fillna(value = 0, inplace = True)\n",
    "df_CScore.CreditScoreRangeUpper.fillna(value = 0, inplace = True)\n",
    "df_CScore['deltaCreditScore'] = df_CScore.CreditScoreRangeUpper - df_CScore.CreditScoreRangeLower"
   ]
  },
  {
   "cell_type": "code",
   "execution_count": null,
   "metadata": {},
   "outputs": [],
   "source": [
    "# verify column completion.\n",
    "df_CScore.info()"
   ]
  },
  {
   "cell_type": "code",
   "execution_count": null,
   "metadata": {},
   "outputs": [],
   "source": [
    "# clean df_Rate's nulls \n",
    "df_Rate.fillna(value = 0, inplace = True)\n",
    "df_Rate.info()"
   ]
  },
  {
   "cell_type": "code",
   "execution_count": null,
   "metadata": {},
   "outputs": [],
   "source": [
    "# For df_Group, since we are only interested in seeing if a group exists, or not, and we have\n",
    "# a boolean fully filled column next to it we do not need to clean up the nulls in the column labeled 'GroupKey'"
   ]
  },
  {
   "cell_type": "code",
   "execution_count": null,
   "metadata": {},
   "outputs": [],
   "source": [
    "# Fill with zeros all nulls, which in this case is effectively the same as not having a balance/account\n",
    "df_Revolv['RevolvingCreditBalance'].fillna(value = 0, inplace = True)\n",
    "df_Revolv['BankcardUtilization'].fillna(value = 0, inplace = True)\n",
    "df_Revolv['AvailableBankcardCredit'].fillna(value = 0, inplace = True)\n",
    "df_Revolv.info()"
   ]
  },
  {
   "cell_type": "code",
   "execution_count": null,
   "metadata": {},
   "outputs": [],
   "source": [
    "# Fill df_Delinquent total inquiries. AND change the datatype to the proper datatype (this was missed above)\n",
    "df_Delinquent.TotalInquiries.fillna(value = '0', inplace = True)\n",
    "df_Delinquent.TotalInquiries = df_Delinquent.TotalInquiries.astype(int)\n",
    "df_Delinquent.info()"
   ]
  },
  {
   "cell_type": "code",
   "execution_count": null,
   "metadata": {},
   "outputs": [],
   "source": [
    "#fix df_Amount nulls Debt to income ratio nulls make no sense, if you have no debt '0' is fine, if you do\n",
    "# then it isn't a null already.\n",
    "df_Amount.DebtToIncomeRatio.fillna(value = 0, inplace = True)\n",
    "df_Amount.info()"
   ]
  },
  {
   "cell_type": "code",
   "execution_count": null,
   "metadata": {},
   "outputs": [],
   "source": [
    "# Closed date should be datetime. it is okay for this status to have nulls as some loans are not yet closed. \n",
    "df_Status.ClosedDate = pd.to_datetime(df_Status.ClosedDate)\n",
    "df_Status.info()"
   ]
  },
  {
   "cell_type": "code",
   "execution_count": null,
   "metadata": {},
   "outputs": [],
   "source": [
    "# Trades never delinquent is a percentage. The nulls are likely people who have no trades\n",
    "# For this reason I am assigning \"2\" to this column as no one can have 200% non-delinquent trades\n",
    "# But someone could have 0% never delinquent trades... this will allow me to clean it up further later\n",
    "# if needed for further analysis\n",
    "df_Trades['TradesNeverDelinquent (percentage)'].fillna(value = 2, inplace = True)\n",
    "df_Trades.info()"
   ]
  },
  {
   "cell_type": "code",
   "execution_count": null,
   "metadata": {},
   "outputs": [],
   "source": [
    "# Income range should be converted to categorical datatype\n",
    "df_Income.IncomeRange = df_Income.IncomeRange.astype(incran)\n",
    "df_Income.info()"
   ]
  },
  {
   "cell_type": "code",
   "execution_count": null,
   "metadata": {},
   "outputs": [],
   "source": [
    "#df_Employment \n",
    "df_Employment.Occupation.fillna(value = 'Unknown', inplace = True)\n",
    "df_Employment.info()"
   ]
  },
  {
   "cell_type": "markdown",
   "metadata": {},
   "source": [
    "### Initial Analysis of the data frames:\n",
    "\n",
    "df_Funded\n",
    "\n",
    "df_CScore\n",
    "\n",
    "df_Rate\n",
    "\n",
    "df_List\n",
    "\n",
    "df_Group\n",
    "\n",
    "df_Revolv\n",
    "\n",
    "df_Delinquent\n",
    "\n",
    "df_Amount\n",
    "\n",
    "df_Status\n",
    "\n",
    "df_Trades\n",
    "\n",
    "df_Income\n",
    "\n",
    "df_Payments\n",
    "\n",
    "df_Employment"
   ]
  },
  {
   "cell_type": "markdown",
   "metadata": {},
   "source": [
    "#### Univariate Visual analysis"
   ]
  },
  {
   "cell_type": "code",
   "execution_count": null,
   "metadata": {},
   "outputs": [],
   "source": [
    "# For Funded, we're most intersted in the Investors number\n",
    "df_Funded.describe()"
   ]
  },
  {
   "cell_type": "code",
   "execution_count": null,
   "metadata": {},
   "outputs": [],
   "source": [
    "# Histogram of full investors range\n",
    "bins = np.arange(1, 1190, 10)\n",
    "plt.hist(df_Funded.Investors, bins = bins);"
   ]
  },
  {
   "cell_type": "code",
   "execution_count": null,
   "metadata": {},
   "outputs": [],
   "source": [
    "# Narrowing the range down to where the bulk of our right skewed data lie, below 200\n",
    "bins = np.arange(1, 200, 20)\n",
    "plt.hist(df_Funded.Investors, bins = bins)\n",
    "plt.xlim(0,200);"
   ]
  },
  {
   "cell_type": "markdown",
   "metadata": {},
   "source": []
  },
  {
   "cell_type": "code",
   "execution_count": null,
   "metadata": {},
   "outputs": [],
   "source": [
    "# For CScore, we're interested in the Credit Scores themselves. \n",
    "df_CScore.head()"
   ]
  },
  {
   "cell_type": "code",
   "execution_count": null,
   "metadata": {},
   "outputs": [],
   "source": [
    "# Historgam of the bulk range between 450 and 899 for the upper limit\n",
    "bins = np.arange(0, 1000, 20)\n",
    "plt.hist(df_CScore.CreditScoreRangeUpper, bins = bins)\n",
    "plt.xlim(450,900)\n",
    "plt.axvline(df_CScore.CreditScoreRangeUpper.mean(), color = 'r');"
   ]
  },
  {
   "cell_type": "markdown",
   "metadata": {},
   "source": []
  },
  {
   "cell_type": "code",
   "execution_count": null,
   "metadata": {},
   "outputs": [],
   "source": [
    "# Historgam of the bulk range between 450 and 899 for the lower limit\n",
    "bins = np.arange(0, 1000, 20)\n",
    "plt.hist(df_CScore.CreditScoreRangeLower, bins = bins)\n",
    "plt.xlim(450,900)\n",
    "plt.axvline(df_CScore.CreditScoreRangeLower.mean(), color = 'r');"
   ]
  },
  {
   "cell_type": "markdown",
   "metadata": {},
   "source": []
  },
  {
   "cell_type": "code",
   "execution_count": null,
   "metadata": {},
   "outputs": [],
   "source": [
    "sns.countplot(data = df_CScore, x = 'combRating', color = sns.color_palette()[0])"
   ]
  },
  {
   "cell_type": "markdown",
   "metadata": {},
   "source": []
  },
  {
   "cell_type": "code",
   "execution_count": null,
   "metadata": {},
   "outputs": [],
   "source": [
    "# I think here we're really more interested in effective yield.\n",
    "df_Rate.describe()"
   ]
  },
  {
   "cell_type": "code",
   "execution_count": null,
   "metadata": {},
   "outputs": [],
   "source": [
    "# Kdeplot for estimated effective yield\n",
    "sns.kdeplot(df_Rate.EstimatedEffectiveYield)"
   ]
  },
  {
   "cell_type": "markdown",
   "metadata": {},
   "source": []
  },
  {
   "cell_type": "code",
   "execution_count": null,
   "metadata": {},
   "outputs": [],
   "source": [
    "# In df_List we're most interested in \"IsBorrowerHomeOwner\", but ListingCategory may also come into play\n",
    "df_List.head()"
   ]
  },
  {
   "cell_type": "code",
   "execution_count": null,
   "metadata": {},
   "outputs": [],
   "source": [
    "#Histogram for listingcategory\n",
    "bins = np.arange(df_List['ListingCategory (numeric)'].min(),df_List['ListingCategory (numeric)'].max(), 1)\n",
    "plt.hist(data = df_List, x = 'ListingCategory (numeric)', bins = bins);\n",
    "plt.xlim(1,19)\n",
    "plt.xticks(np.arange(1,20,1));"
   ]
  },
  {
   "cell_type": "markdown",
   "metadata": {},
   "source": []
  },
  {
   "cell_type": "code",
   "execution_count": null,
   "metadata": {},
   "outputs": [],
   "source": [
    "# for df_Group this isn't a dataframe to be used by itself, but possibly for comparisons later.\n",
    "df_Group.head()"
   ]
  },
  {
   "cell_type": "code",
   "execution_count": null,
   "metadata": {},
   "outputs": [],
   "source": []
  },
  {
   "cell_type": "code",
   "execution_count": null,
   "metadata": {},
   "outputs": [],
   "source": [
    "# for df_Revolv\n",
    "df_Revolv.describe()"
   ]
  },
  {
   "cell_type": "code",
   "execution_count": null,
   "metadata": {},
   "outputs": [],
   "source": [
    "bins = np.arange(0, 60, 6)\n",
    "plt.hist(df_Revolv.CurrentCreditLines, bins = bins);"
   ]
  },
  {
   "cell_type": "code",
   "execution_count": null,
   "metadata": {},
   "outputs": [],
   "source": [
    "bins = np.arange(0, 60, 6)\n",
    "plt.hist(df_Revolv.OpenCreditLines, bins = bins);"
   ]
  },
  {
   "cell_type": "code",
   "execution_count": null,
   "metadata": {},
   "outputs": [],
   "source": [
    "bins = np.arange(0, 140, 15)\n",
    "plt.hist(df_Revolv.TotalCreditLinespast7years, bins = bins);"
   ]
  },
  {
   "cell_type": "code",
   "execution_count": null,
   "metadata": {},
   "outputs": [],
   "source": [
    "bins = np.arange(0, 60, 5)\n",
    "plt.hist(df_Revolv.OpenRevolvingAccounts, bins = bins);"
   ]
  },
  {
   "cell_type": "code",
   "execution_count": null,
   "metadata": {},
   "outputs": [],
   "source": []
  },
  {
   "cell_type": "code",
   "execution_count": null,
   "metadata": {},
   "outputs": [],
   "source": []
  }
 ],
 "metadata": {
  "kernelspec": {
   "display_name": "Python 3",
   "language": "python",
   "name": "python3"
  },
  "language_info": {
   "codemirror_mode": {
    "name": "ipython",
    "version": 3
   },
   "file_extension": ".py",
   "mimetype": "text/x-python",
   "name": "python",
   "nbconvert_exporter": "python",
   "pygments_lexer": "ipython3",
   "version": "3.8.5"
  }
 },
 "nbformat": 4,
 "nbformat_minor": 4
}
