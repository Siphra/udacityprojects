{
 "cells": [
  {
   "cell_type": "code",
   "execution_count": 1,
   "metadata": {},
   "outputs": [],
   "source": [
    "# Import modules \n",
    "import pandas as pd\n",
    "import numpy as np\n",
    "import matplotlib.pyplot as plt\n",
    "import seaborn as sns"
   ]
  },
  {
   "cell_type": "code",
   "execution_count": 2,
   "metadata": {},
   "outputs": [
    {
     "data": {
      "text/html": [
       "<div>\n",
       "<style scoped>\n",
       "    .dataframe tbody tr th:only-of-type {\n",
       "        vertical-align: middle;\n",
       "    }\n",
       "\n",
       "    .dataframe tbody tr th {\n",
       "        vertical-align: top;\n",
       "    }\n",
       "\n",
       "    .dataframe thead th {\n",
       "        text-align: right;\n",
       "    }\n",
       "</style>\n",
       "<table border=\"1\" class=\"dataframe\">\n",
       "  <thead>\n",
       "    <tr style=\"text-align: right;\">\n",
       "      <th></th>\n",
       "      <th>ListingKey</th>\n",
       "      <th>ListingNumber</th>\n",
       "      <th>ListingCreationDate</th>\n",
       "      <th>CreditGrade</th>\n",
       "      <th>Term</th>\n",
       "      <th>LoanStatus</th>\n",
       "      <th>ClosedDate</th>\n",
       "      <th>BorrowerAPR</th>\n",
       "      <th>BorrowerRate</th>\n",
       "      <th>LenderYield</th>\n",
       "      <th>...</th>\n",
       "      <th>LP_ServiceFees</th>\n",
       "      <th>LP_CollectionFees</th>\n",
       "      <th>LP_GrossPrincipalLoss</th>\n",
       "      <th>LP_NetPrincipalLoss</th>\n",
       "      <th>LP_NonPrincipalRecoverypayments</th>\n",
       "      <th>PercentFunded</th>\n",
       "      <th>Recommendations</th>\n",
       "      <th>InvestmentFromFriendsCount</th>\n",
       "      <th>InvestmentFromFriendsAmount</th>\n",
       "      <th>Investors</th>\n",
       "    </tr>\n",
       "  </thead>\n",
       "  <tbody>\n",
       "    <tr>\n",
       "      <th>0</th>\n",
       "      <td>1021339766868145413AB3B</td>\n",
       "      <td>193129</td>\n",
       "      <td>2007-08-26 19:09:29.263000000</td>\n",
       "      <td>C</td>\n",
       "      <td>36</td>\n",
       "      <td>Completed</td>\n",
       "      <td>2009-08-14 00:00:00</td>\n",
       "      <td>0.16516</td>\n",
       "      <td>0.1580</td>\n",
       "      <td>0.1380</td>\n",
       "      <td>...</td>\n",
       "      <td>-133.18</td>\n",
       "      <td>0.0</td>\n",
       "      <td>0.0</td>\n",
       "      <td>0.0</td>\n",
       "      <td>0.0</td>\n",
       "      <td>1.0</td>\n",
       "      <td>0</td>\n",
       "      <td>0</td>\n",
       "      <td>0.0</td>\n",
       "      <td>258</td>\n",
       "    </tr>\n",
       "    <tr>\n",
       "      <th>1</th>\n",
       "      <td>10273602499503308B223C1</td>\n",
       "      <td>1209647</td>\n",
       "      <td>2014-02-27 08:28:07.900000000</td>\n",
       "      <td>NaN</td>\n",
       "      <td>36</td>\n",
       "      <td>Current</td>\n",
       "      <td>NaN</td>\n",
       "      <td>0.12016</td>\n",
       "      <td>0.0920</td>\n",
       "      <td>0.0820</td>\n",
       "      <td>...</td>\n",
       "      <td>0.00</td>\n",
       "      <td>0.0</td>\n",
       "      <td>0.0</td>\n",
       "      <td>0.0</td>\n",
       "      <td>0.0</td>\n",
       "      <td>1.0</td>\n",
       "      <td>0</td>\n",
       "      <td>0</td>\n",
       "      <td>0.0</td>\n",
       "      <td>1</td>\n",
       "    </tr>\n",
       "    <tr>\n",
       "      <th>2</th>\n",
       "      <td>0EE9337825851032864889A</td>\n",
       "      <td>81716</td>\n",
       "      <td>2007-01-05 15:00:47.090000000</td>\n",
       "      <td>HR</td>\n",
       "      <td>36</td>\n",
       "      <td>Completed</td>\n",
       "      <td>2009-12-17 00:00:00</td>\n",
       "      <td>0.28269</td>\n",
       "      <td>0.2750</td>\n",
       "      <td>0.2400</td>\n",
       "      <td>...</td>\n",
       "      <td>-24.20</td>\n",
       "      <td>0.0</td>\n",
       "      <td>0.0</td>\n",
       "      <td>0.0</td>\n",
       "      <td>0.0</td>\n",
       "      <td>1.0</td>\n",
       "      <td>0</td>\n",
       "      <td>0</td>\n",
       "      <td>0.0</td>\n",
       "      <td>41</td>\n",
       "    </tr>\n",
       "    <tr>\n",
       "      <th>3</th>\n",
       "      <td>0EF5356002482715299901A</td>\n",
       "      <td>658116</td>\n",
       "      <td>2012-10-22 11:02:35.010000000</td>\n",
       "      <td>NaN</td>\n",
       "      <td>36</td>\n",
       "      <td>Current</td>\n",
       "      <td>NaN</td>\n",
       "      <td>0.12528</td>\n",
       "      <td>0.0974</td>\n",
       "      <td>0.0874</td>\n",
       "      <td>...</td>\n",
       "      <td>-108.01</td>\n",
       "      <td>0.0</td>\n",
       "      <td>0.0</td>\n",
       "      <td>0.0</td>\n",
       "      <td>0.0</td>\n",
       "      <td>1.0</td>\n",
       "      <td>0</td>\n",
       "      <td>0</td>\n",
       "      <td>0.0</td>\n",
       "      <td>158</td>\n",
       "    </tr>\n",
       "    <tr>\n",
       "      <th>4</th>\n",
       "      <td>0F023589499656230C5E3E2</td>\n",
       "      <td>909464</td>\n",
       "      <td>2013-09-14 18:38:39.097000000</td>\n",
       "      <td>NaN</td>\n",
       "      <td>36</td>\n",
       "      <td>Current</td>\n",
       "      <td>NaN</td>\n",
       "      <td>0.24614</td>\n",
       "      <td>0.2085</td>\n",
       "      <td>0.1985</td>\n",
       "      <td>...</td>\n",
       "      <td>-60.27</td>\n",
       "      <td>0.0</td>\n",
       "      <td>0.0</td>\n",
       "      <td>0.0</td>\n",
       "      <td>0.0</td>\n",
       "      <td>1.0</td>\n",
       "      <td>0</td>\n",
       "      <td>0</td>\n",
       "      <td>0.0</td>\n",
       "      <td>20</td>\n",
       "    </tr>\n",
       "  </tbody>\n",
       "</table>\n",
       "<p>5 rows × 81 columns</p>\n",
       "</div>"
      ],
      "text/plain": [
       "                ListingKey  ListingNumber            ListingCreationDate  \\\n",
       "0  1021339766868145413AB3B         193129  2007-08-26 19:09:29.263000000   \n",
       "1  10273602499503308B223C1        1209647  2014-02-27 08:28:07.900000000   \n",
       "2  0EE9337825851032864889A          81716  2007-01-05 15:00:47.090000000   \n",
       "3  0EF5356002482715299901A         658116  2012-10-22 11:02:35.010000000   \n",
       "4  0F023589499656230C5E3E2         909464  2013-09-14 18:38:39.097000000   \n",
       "\n",
       "  CreditGrade  Term LoanStatus           ClosedDate  BorrowerAPR  \\\n",
       "0           C    36  Completed  2009-08-14 00:00:00      0.16516   \n",
       "1         NaN    36    Current                  NaN      0.12016   \n",
       "2          HR    36  Completed  2009-12-17 00:00:00      0.28269   \n",
       "3         NaN    36    Current                  NaN      0.12528   \n",
       "4         NaN    36    Current                  NaN      0.24614   \n",
       "\n",
       "   BorrowerRate  LenderYield  ...  LP_ServiceFees  LP_CollectionFees  \\\n",
       "0        0.1580       0.1380  ...         -133.18                0.0   \n",
       "1        0.0920       0.0820  ...            0.00                0.0   \n",
       "2        0.2750       0.2400  ...          -24.20                0.0   \n",
       "3        0.0974       0.0874  ...         -108.01                0.0   \n",
       "4        0.2085       0.1985  ...          -60.27                0.0   \n",
       "\n",
       "   LP_GrossPrincipalLoss  LP_NetPrincipalLoss LP_NonPrincipalRecoverypayments  \\\n",
       "0                    0.0                  0.0                             0.0   \n",
       "1                    0.0                  0.0                             0.0   \n",
       "2                    0.0                  0.0                             0.0   \n",
       "3                    0.0                  0.0                             0.0   \n",
       "4                    0.0                  0.0                             0.0   \n",
       "\n",
       "   PercentFunded  Recommendations InvestmentFromFriendsCount  \\\n",
       "0            1.0                0                          0   \n",
       "1            1.0                0                          0   \n",
       "2            1.0                0                          0   \n",
       "3            1.0                0                          0   \n",
       "4            1.0                0                          0   \n",
       "\n",
       "  InvestmentFromFriendsAmount Investors  \n",
       "0                         0.0       258  \n",
       "1                         0.0         1  \n",
       "2                         0.0        41  \n",
       "3                         0.0       158  \n",
       "4                         0.0        20  \n",
       "\n",
       "[5 rows x 81 columns]"
      ]
     },
     "execution_count": 2,
     "metadata": {},
     "output_type": "execute_result"
    }
   ],
   "source": [
    "# bring in dataframe \n",
    "df = pd.read_csv(r'prosperLoanData.csv')\n",
    "df.head()"
   ]
  },
  {
   "cell_type": "code",
   "execution_count": 3,
   "metadata": {},
   "outputs": [
    {
     "data": {
      "text/plain": [
       "(113937, 81)"
      ]
     },
     "execution_count": 3,
     "metadata": {},
     "output_type": "execute_result"
    }
   ],
   "source": [
    "df.shape"
   ]
  },
  {
   "cell_type": "code",
   "execution_count": 4,
   "metadata": {},
   "outputs": [
    {
     "data": {
      "text/plain": [
       "Index(['ListingKey', 'ListingNumber', 'ListingCreationDate', 'CreditGrade',\n",
       "       'Term', 'LoanStatus', 'ClosedDate', 'BorrowerAPR', 'BorrowerRate',\n",
       "       'LenderYield', 'EstimatedEffectiveYield', 'EstimatedLoss',\n",
       "       'EstimatedReturn', 'ProsperRating (numeric)', 'ProsperRating (Alpha)',\n",
       "       'ProsperScore', 'ListingCategory (numeric)', 'BorrowerState',\n",
       "       'Occupation', 'EmploymentStatus', 'EmploymentStatusDuration',\n",
       "       'IsBorrowerHomeowner', 'CurrentlyInGroup', 'GroupKey',\n",
       "       'DateCreditPulled', 'CreditScoreRangeLower', 'CreditScoreRangeUpper',\n",
       "       'FirstRecordedCreditLine', 'CurrentCreditLines', 'OpenCreditLines',\n",
       "       'TotalCreditLinespast7years', 'OpenRevolvingAccounts',\n",
       "       'OpenRevolvingMonthlyPayment', 'InquiriesLast6Months', 'TotalInquiries',\n",
       "       'CurrentDelinquencies', 'AmountDelinquent', 'DelinquenciesLast7Years',\n",
       "       'PublicRecordsLast10Years', 'PublicRecordsLast12Months',\n",
       "       'RevolvingCreditBalance', 'BankcardUtilization',\n",
       "       'AvailableBankcardCredit', 'TotalTrades',\n",
       "       'TradesNeverDelinquent (percentage)', 'TradesOpenedLast6Months',\n",
       "       'DebtToIncomeRatio', 'IncomeRange', 'IncomeVerifiable',\n",
       "       'StatedMonthlyIncome', 'LoanKey', 'TotalProsperLoans',\n",
       "       'TotalProsperPaymentsBilled', 'OnTimeProsperPayments',\n",
       "       'ProsperPaymentsLessThanOneMonthLate',\n",
       "       'ProsperPaymentsOneMonthPlusLate', 'ProsperPrincipalBorrowed',\n",
       "       'ProsperPrincipalOutstanding', 'ScorexChangeAtTimeOfListing',\n",
       "       'LoanCurrentDaysDelinquent', 'LoanFirstDefaultedCycleNumber',\n",
       "       'LoanMonthsSinceOrigination', 'LoanNumber', 'LoanOriginalAmount',\n",
       "       'LoanOriginationDate', 'LoanOriginationQuarter', 'MemberKey',\n",
       "       'MonthlyLoanPayment', 'LP_CustomerPayments',\n",
       "       'LP_CustomerPrincipalPayments', 'LP_InterestandFees', 'LP_ServiceFees',\n",
       "       'LP_CollectionFees', 'LP_GrossPrincipalLoss', 'LP_NetPrincipalLoss',\n",
       "       'LP_NonPrincipalRecoverypayments', 'PercentFunded', 'Recommendations',\n",
       "       'InvestmentFromFriendsCount', 'InvestmentFromFriendsAmount',\n",
       "       'Investors'],\n",
       "      dtype='object')"
      ]
     },
     "execution_count": 4,
     "metadata": {},
     "output_type": "execute_result"
    }
   ],
   "source": [
    "df.columns"
   ]
  },
  {
   "cell_type": "code",
   "execution_count": 5,
   "metadata": {},
   "outputs": [
    {
     "name": "stdout",
     "output_type": "stream",
     "text": [
      "<class 'pandas.core.frame.DataFrame'>\n",
      "RangeIndex: 113937 entries, 0 to 113936\n",
      "Data columns (total 81 columns):\n",
      " #   Column                               Non-Null Count   Dtype  \n",
      "---  ------                               --------------   -----  \n",
      " 0   ListingKey                           113937 non-null  object \n",
      " 1   ListingNumber                        113937 non-null  int64  \n",
      " 2   ListingCreationDate                  113937 non-null  object \n",
      " 3   CreditGrade                          28953 non-null   object \n",
      " 4   Term                                 113937 non-null  int64  \n",
      " 5   LoanStatus                           113937 non-null  object \n",
      " 6   ClosedDate                           55089 non-null   object \n",
      " 7   BorrowerAPR                          113912 non-null  float64\n",
      " 8   BorrowerRate                         113937 non-null  float64\n",
      " 9   LenderYield                          113937 non-null  float64\n",
      " 10  EstimatedEffectiveYield              84853 non-null   float64\n",
      " 11  EstimatedLoss                        84853 non-null   float64\n",
      " 12  EstimatedReturn                      84853 non-null   float64\n",
      " 13  ProsperRating (numeric)              84853 non-null   float64\n",
      " 14  ProsperRating (Alpha)                84853 non-null   object \n",
      " 15  ProsperScore                         84853 non-null   float64\n",
      " 16  ListingCategory (numeric)            113937 non-null  int64  \n",
      " 17  BorrowerState                        108422 non-null  object \n",
      " 18  Occupation                           110349 non-null  object \n",
      " 19  EmploymentStatus                     111682 non-null  object \n",
      " 20  EmploymentStatusDuration             106312 non-null  float64\n",
      " 21  IsBorrowerHomeowner                  113937 non-null  bool   \n",
      " 22  CurrentlyInGroup                     113937 non-null  bool   \n",
      " 23  GroupKey                             13341 non-null   object \n",
      " 24  DateCreditPulled                     113937 non-null  object \n",
      " 25  CreditScoreRangeLower                113346 non-null  float64\n",
      " 26  CreditScoreRangeUpper                113346 non-null  float64\n",
      " 27  FirstRecordedCreditLine              113240 non-null  object \n",
      " 28  CurrentCreditLines                   106333 non-null  float64\n",
      " 29  OpenCreditLines                      106333 non-null  float64\n",
      " 30  TotalCreditLinespast7years           113240 non-null  float64\n",
      " 31  OpenRevolvingAccounts                113937 non-null  int64  \n",
      " 32  OpenRevolvingMonthlyPayment          113937 non-null  float64\n",
      " 33  InquiriesLast6Months                 113240 non-null  float64\n",
      " 34  TotalInquiries                       112778 non-null  float64\n",
      " 35  CurrentDelinquencies                 113240 non-null  float64\n",
      " 36  AmountDelinquent                     106315 non-null  float64\n",
      " 37  DelinquenciesLast7Years              112947 non-null  float64\n",
      " 38  PublicRecordsLast10Years             113240 non-null  float64\n",
      " 39  PublicRecordsLast12Months            106333 non-null  float64\n",
      " 40  RevolvingCreditBalance               106333 non-null  float64\n",
      " 41  BankcardUtilization                  106333 non-null  float64\n",
      " 42  AvailableBankcardCredit              106393 non-null  float64\n",
      " 43  TotalTrades                          106393 non-null  float64\n",
      " 44  TradesNeverDelinquent (percentage)   106393 non-null  float64\n",
      " 45  TradesOpenedLast6Months              106393 non-null  float64\n",
      " 46  DebtToIncomeRatio                    105383 non-null  float64\n",
      " 47  IncomeRange                          113937 non-null  object \n",
      " 48  IncomeVerifiable                     113937 non-null  bool   \n",
      " 49  StatedMonthlyIncome                  113937 non-null  float64\n",
      " 50  LoanKey                              113937 non-null  object \n",
      " 51  TotalProsperLoans                    22085 non-null   float64\n",
      " 52  TotalProsperPaymentsBilled           22085 non-null   float64\n",
      " 53  OnTimeProsperPayments                22085 non-null   float64\n",
      " 54  ProsperPaymentsLessThanOneMonthLate  22085 non-null   float64\n",
      " 55  ProsperPaymentsOneMonthPlusLate      22085 non-null   float64\n",
      " 56  ProsperPrincipalBorrowed             22085 non-null   float64\n",
      " 57  ProsperPrincipalOutstanding          22085 non-null   float64\n",
      " 58  ScorexChangeAtTimeOfListing          18928 non-null   float64\n",
      " 59  LoanCurrentDaysDelinquent            113937 non-null  int64  \n",
      " 60  LoanFirstDefaultedCycleNumber        16952 non-null   float64\n",
      " 61  LoanMonthsSinceOrigination           113937 non-null  int64  \n",
      " 62  LoanNumber                           113937 non-null  int64  \n",
      " 63  LoanOriginalAmount                   113937 non-null  int64  \n",
      " 64  LoanOriginationDate                  113937 non-null  object \n",
      " 65  LoanOriginationQuarter               113937 non-null  object \n",
      " 66  MemberKey                            113937 non-null  object \n",
      " 67  MonthlyLoanPayment                   113937 non-null  float64\n",
      " 68  LP_CustomerPayments                  113937 non-null  float64\n",
      " 69  LP_CustomerPrincipalPayments         113937 non-null  float64\n",
      " 70  LP_InterestandFees                   113937 non-null  float64\n",
      " 71  LP_ServiceFees                       113937 non-null  float64\n",
      " 72  LP_CollectionFees                    113937 non-null  float64\n",
      " 73  LP_GrossPrincipalLoss                113937 non-null  float64\n",
      " 74  LP_NetPrincipalLoss                  113937 non-null  float64\n",
      " 75  LP_NonPrincipalRecoverypayments      113937 non-null  float64\n",
      " 76  PercentFunded                        113937 non-null  float64\n",
      " 77  Recommendations                      113937 non-null  int64  \n",
      " 78  InvestmentFromFriendsCount           113937 non-null  int64  \n",
      " 79  InvestmentFromFriendsAmount          113937 non-null  float64\n",
      " 80  Investors                            113937 non-null  int64  \n",
      "dtypes: bool(3), float64(50), int64(11), object(17)\n",
      "memory usage: 68.1+ MB\n"
     ]
    }
   ],
   "source": [
    "df.info()"
   ]
  },
  {
   "cell_type": "code",
   "execution_count": 6,
   "metadata": {},
   "outputs": [
    {
     "data": {
      "text/plain": [
       "ListingKey                     113066\n",
       "ListingNumber                  113066\n",
       "ListingCreationDate            113064\n",
       "CreditGrade                         8\n",
       "Term                                3\n",
       "                                ...  \n",
       "PercentFunded                     719\n",
       "Recommendations                    17\n",
       "InvestmentFromFriendsCount         14\n",
       "InvestmentFromFriendsAmount       726\n",
       "Investors                         751\n",
       "Length: 81, dtype: int64"
      ]
     },
     "execution_count": 6,
     "metadata": {},
     "output_type": "execute_result"
    }
   ],
   "source": [
    "df.nunique()"
   ]
  },
  {
   "cell_type": "markdown",
   "metadata": {},
   "source": [
    "### Initial pass thoughts\n",
    "This needs to be broken into multiple dataframes during cleaning process\n",
    "Large numbers of columns have 'Nulls', this may or may not be a problem later\n",
    "Need to identify the columns that should be together. \n",
    "\n",
    "#### I intend to use the column \"ListingKey\" as the reference point for all other dataframes as it is a full column. \n"
   ]
  },
  {
   "cell_type": "code",
   "execution_count": 7,
   "metadata": {},
   "outputs": [
    {
     "data": {
      "text/plain": [
       "4.0    18345\n",
       "5.0    15581\n",
       "6.0    14551\n",
       "3.0    14274\n",
       "2.0     9795\n",
       "1.0     6935\n",
       "7.0     5372\n",
       "Name: ProsperRating (numeric), dtype: int64"
      ]
     },
     "execution_count": 7,
     "metadata": {},
     "output_type": "execute_result"
    }
   ],
   "source": [
    "# This cell for checking each row before making the corrections list below, the code varied row by row\n",
    "df['ProsperRating (numeric)'].value_counts()"
   ]
  },
  {
   "cell_type": "markdown",
   "metadata": {},
   "source": [
    "#### Cleaning items list:\n",
    "* CreditGrade should be categorical and orderd\n",
    "** AA, A, B, C, D, E, NC, HR\n",
    "** NC (Likely for 'No Credit') is higher than HR (Likely for 'High Risk')\n",
    "** CreditGrade and ProsperRating (Alpha) should possibly be combined into one column\n",
    "* ListingCreationDate should be a datetime datatype\n",
    "* ClosedDate should be a datetime datatype\n",
    "* ProsperRating (numeric)could be converted to int format maybe\n",
    "* ProsperRating (Alpha) should be categorical and ordered\n",
    "** AA, A, B, C, D, E, HR\n",
    "** ProsperRating (Alpha) and CreditGrade should possibly be combined into one column for analysis\n",
    "* DateCreditPulled should be a datetime datatype\n",
    "* Employment status should be categorical and ordered\n",
    "** Employed, Full-time, Self-employed, Part-time, Retired, Not employed, Other, Not available\n",
    "* DateCreditPulled should be a datetime datatype\n",
    "* CurrentCreditLines should be an int data type\n",
    "* OpenCreditLines      \"    \"  \"   \"   \"   \" \n",
    "* TotalCreditLinespast7years \" \" \" \"   \"   \" \n",
    "* InquiriesLast6Months \"    \"  \"   \"   \"   \" \n",
    "* InquiriesLast6Months \"    \"  \"   \"   \"   \" \n",
    "* CurrentDelinquencies \"    \"  \"   \"   \"   \"\n",
    "* DelinquenciesLast7Years \"    \"  \"   \"   \"   \"         \n",
    "* PublicRecordsLast10Years\"    \"  \"   \"   \"   \"           \n",
    "* PublicRecordsLast12Months\"    \"  \"   \"   \"   \" \n",
    "* TotalTrades\"    \"  \"   \"   \"   \"\n",
    "* TradesOpenedLast6Months\"    \"  \"   \"   \"   \"\n",
    "* IncomeRange should be a categorical data type and ordered\n",
    "** 100,000+, 75,000-99,999, 50,000-74,999, 25,000-49,999, 1-24,999, 0, Not displayed, Not employed\n",
    "* TotalProsperLoans  should be an int data type\n",
    "* OnTimeProsperPayments \"    \"  \"   \"   \"   \"\n",
    "* ProsperPaymentsLessThanOneMonthLate \n",
    "* ProsperPaymentsOneMonthPlusLate \n",
    "* LoanFirstDefaultedCycleNumber\n",
    "* LoanOriginationDate should be a datetime datatype\n",
    "\n",
    "* Nulls will need to be dealt with as well.\n",
    "\n",
    "#### Tidying list :\n",
    "The following columns should be grouped together before changes are made (colors are used in Excel to group\n",
    "prospective dataframes for intial pass to reduce each to a single observational unit):\n",
    "\n",
    "\n",
    "* ListingKey (Yellow)\n",
    "** ListingNumber\n",
    "** ListingCreationDate\n",
    "** ProsperPrincipalBorrowed\n",
    "** ProsperPrincipalOutstanding\n",
    "** MemberKey\n",
    "** MonthlyLoanPayment\n",
    "** PercentFunded\n",
    "** Recommendations\n",
    "** InvestmentFromFriendsCount\n",
    "** InvestmentFromFriendsAmount\n",
    "** Investors\n",
    "\n",
    "\n",
    "* CreditGrade (Olive)\n",
    "** ListingKey\n",
    "** ProsperRating(numeric/Alpha)\n",
    "** DateCreditPulled\n",
    "** CreditScoreRange(Lower/Upper)\n",
    "** ScorexChangeAtTimeOfListing\n",
    "\n",
    "\n",
    "* BorrowerAPR (Orange)\n",
    "** ListingKey\n",
    "** BorrowerRate\n",
    "** LenderYield\n",
    "** EstimatedEffectiveYield\n",
    "** EstimatedLoss\n",
    "** EstimatedReturn\n",
    "** ProsperScore\n",
    "\n",
    "\n",
    "* BorrowerState (Flesh)\n",
    "** ListingKey\n",
    "** IsBorrowerHomeowner\n",
    "** ListingCategory\n",
    "\n",
    "\n",
    "* CurrentlyInGroup (dark blue)\n",
    "** ListingKey\n",
    "** GroupKey\n",
    "\n",
    "\n",
    "* FirstRecordedCreditLine (red)\n",
    "** ListingKey\n",
    "** CurrentCreditLines\n",
    "** OpenCreditLines\n",
    "** TotalCreditLinespast7years\n",
    "** OpenRevolvingAccounts\n",
    "** OpenRevolvingMonthlyPayment\n",
    "** RevolvingCreditBalance\n",
    "** BankcardUtilization\n",
    "** AvailableBankcardCredit\n",
    "\n",
    "\n",
    "* InquiriesLast6Months (pink)\n",
    "** ListingKey\n",
    "** TotalInquiries\n",
    "** CurrentDelinquencies\n",
    "\n",
    "\n",
    "* AmountDelinquent (grey)\n",
    "** ListingKey\n",
    "** DelinquenciesLast7Years\n",
    "** DebtToIncomeRatio\n",
    "** ProsperPaymentsLessThanOneMonthLate\n",
    "** ProsperPaymentsOneMonthPlusLate\n",
    "** LoanCurrentDaysDelinquent\n",
    "** LoanFirstDefaultedCycleNumber\n",
    "** LoanMonthsSinceOrigination\n",
    "** LoanNumber\n",
    "** LoanOriginalAmount\n",
    "** LoanOriginationDate\n",
    "** LoanOriginationQuarter\n",
    "\n",
    "\n",
    "* Term (white)\n",
    "** ListingKey\n",
    "** LoanStatus\n",
    "** ClosedDate\n",
    "\n",
    "\n",
    "* LoanKey (lblue)\n",
    "** ListingKey\n",
    "** TotalProsperLoans\n",
    "** TotalProsperPaymentsBilled\n",
    "** OnTimeProsperPayments\n",
    "** LP_CustomerPayments\n",
    "** LP_CustomerPrincipalPayments\n",
    "** LP_InterestandFees\n",
    "** LP_ServiceFees\n",
    "** LP_CollectionFees\n",
    "** LP_GrossPrincipalLoss\n",
    "** LP_NetPrincipalLoss\n",
    "** LP_NonPrincipalRecoverypayments"
   ]
  },
  {
   "cell_type": "markdown",
   "metadata": {},
   "source": [
    "#### Initial Dataframe organization block"
   ]
  },
  {
   "cell_type": "code",
   "execution_count": 8,
   "metadata": {},
   "outputs": [],
   "source": [
    "# First create the individual dataframes, all modifications of data type can be done on the copies.\n",
    "# Lists by color group to form appropriate dataframes.\n",
    "yellow = ['ListingKey', 'ListingNumber','ListingCreationDate','ProsperPrincipalBorrowed',\n",
    "          'ProsperPrincipalOutstanding','MemberKey','PercentFunded',\n",
    "          'Recommendations','InvestmentFromFriendsCount','InvestmentFromFriendsAmount','Investors']\n",
    "olive = ['CreditGrade','ListingKey','ProsperRating (numeric)','ProsperRating (Alpha)','DateCreditPulled',\n",
    "         'CreditScoreRangeLower', 'CreditScoreRangeUpper','ScorexChangeAtTimeOfListing', 'ProsperScore', \n",
    "         'PublicRecordsLast12Months','PublicRecordsLast10Years']\n",
    "orange = ['ListingKey','BorrowerRate','LenderYield','EstimatedEffectiveYield','EstimatedLoss','EstimatedReturn']\n",
    "flesh = ['ListingKey','IsBorrowerHomeowner','ListingCategory (numeric)']\n",
    "dblue = ['ListingKey','CurrentlyInGroup','GroupKey']\n",
    "red = ['ListingKey','CurrentCreditLines','OpenCreditLines','TotalCreditLinespast7years',\n",
    "       'OpenRevolvingAccounts','OpenRevolvingMonthlyPayment','RevolvingCreditBalance',\n",
    "       'BankcardUtilization','AvailableBankcardCredit']\n",
    "pink = ['InquiriesLast6Months','ListingKey','TotalInquiries','CurrentDelinquencies','DelinquenciesLast7Years',\n",
    "       'LoanCurrentDaysDelinquent']\n",
    "grey = ['ListingKey','DebtToIncomeRatio','ProsperPaymentsLessThanOneMonthLate',\n",
    "        'ProsperPaymentsOneMonthPlusLate','LoanFirstDefaultedCycleNumber',\n",
    "        'LoanMonthsSinceOrigination','LoanNumber','LoanOriginalAmount','LoanOriginationDate',\n",
    "        'LoanOriginationQuarter']\n",
    "white = ['Term','ListingKey','LoanStatus','ClosedDate']\n",
    "brown = ['ListingKey','IncomeRange','IncomeVerifiable','StatedMonthlyIncome']\n",
    "dgreen = ['ListingKey','TotalTrades','TradesNeverDelinquent (percentage)','TradesOpenedLast6Months']\n",
    "lblue = ['ListingKey', 'LoanKey', 'TotalProsperLoans', 'TotalProsperPaymentsBilled', 'OnTimeProsperPayments',\n",
    "         'MonthlyLoanPayment', 'LP_CustomerPayments','LP_CustomerPrincipalPayments','LP_InterestandFees',\n",
    "         'LP_ServiceFees','LP_CollectionFees','LP_GrossPrincipalLoss','LP_NetPrincipalLoss',\n",
    "         'LP_NonPrincipalRecoverypayments',]\n",
    "purple = ['ListingKey', 'Occupation', 'EmploymentStatus', 'EmploymentStatusDuration']"
   ]
  },
  {
   "cell_type": "code",
   "execution_count": 9,
   "metadata": {},
   "outputs": [],
   "source": [
    "# Use lists to create dataframes based on desired observation columns. \n",
    "df_Funded = df[yellow].copy()\n",
    "df_CScore = df[olive].copy()\n",
    "df_Rate = df[orange].copy()\n",
    "df_List = df[flesh].copy()\n",
    "df_Group = df[dblue].copy()\n",
    "df_Revolv = df[red].copy()\n",
    "df_Delinquent = df[pink].copy()\n",
    "df_Amount = df[grey].copy()\n",
    "df_Status = df[white].copy()\n",
    "df_Trades = df[dgreen].copy()\n",
    "df_Income = df[brown].copy()\n",
    "df_Payments = df[lblue].copy()\n",
    "df_Employment = df[purple].copy()"
   ]
  },
  {
   "cell_type": "code",
   "execution_count": 10,
   "metadata": {},
   "outputs": [
    {
     "name": "stdout",
     "output_type": "stream",
     "text": [
      "(113937, 11)\n",
      "(113937, 11)\n",
      "(113937, 6)\n",
      "(113937, 3)\n",
      "(113937, 3)\n",
      "(113937, 9)\n",
      "(113937, 6)\n",
      "(113937, 10)\n",
      "(113937, 4)\n",
      "(113937, 4)\n",
      "(113937, 4)\n",
      "(113937, 14)\n",
      "(113937, 4)\n"
     ]
    }
   ],
   "source": [
    "#Check manageablility of dataframe\n",
    "print(df_Funded.shape)\n",
    "print(df_CScore.shape)\n",
    "print(df_Rate.shape)\n",
    "print(df_List.shape)\n",
    "print(df_Group.shape)\n",
    "print(df_Revolv.shape)\n",
    "print(df_Delinquent.shape)\n",
    "print(df_Amount.shape)\n",
    "print(df_Status.shape)\n",
    "print(df_Trades.shape)\n",
    "print(df_Income.shape)\n",
    "print(df_Payments.shape)\n",
    "print(df_Employment.shape)"
   ]
  },
  {
   "cell_type": "markdown",
   "metadata": {},
   "source": [
    "#### Datatype correction block"
   ]
  },
  {
   "cell_type": "code",
   "execution_count": 11,
   "metadata": {},
   "outputs": [],
   "source": [
    "# correct datatypes as listed above\n",
    "# Create categorical lists\n",
    "#For CreditGrade & ProsperRating (Alpha)\n",
    "alpha_ratings = ['AA','A','B','C','D','E','NC','HR']\n",
    "alrat = pd.CategoricalDtype(categories = alpha_ratings, ordered = True)\n",
    "#For Employment status\n",
    "emp_status = ['Employed', 'Full-time', 'Self-employed', 'Part-time', 'Retired', 'Not employed',\n",
    "              'Other', 'Not available']\n",
    "empstat = pd.CategoricalDtype(categories = emp_status, ordered = True)\n",
    "#For Income Range\n",
    "inc_range = ['$100,000+', '$75,000-99,999', '$50,000-74,999', '$25,000-49,999', '$1-24,999', '$0',\n",
    "            'Not displayed', 'Not employed']\n",
    "incran = pd.CategoricalDtype(categories = inc_range, ordered = True)"
   ]
  },
  {
   "cell_type": "code",
   "execution_count": 12,
   "metadata": {},
   "outputs": [],
   "source": [
    "#alter datatypes in dataframes\n",
    "# df_Funded\n",
    "df_Funded.ListingCreationDate = pd.to_datetime(df_Funded.ListingCreationDate)\n",
    "df_Funded['ProsperPrincipalBorrowed'].fillna(value = 0, inplace = True)\n",
    "df_Funded['ProsperPrincipalOutstanding'].fillna(value = 0, inplace = True)"
   ]
  },
  {
   "cell_type": "code",
   "execution_count": 13,
   "metadata": {},
   "outputs": [],
   "source": [
    "# alter datatypes in dataframes\n",
    "#df_CScore\n",
    "df_CScore.CreditGrade = df_CScore.CreditGrade.astype(alrat)\n",
    "df_CScore['ProsperRating (Alpha)'] = df_CScore['ProsperRating (Alpha)'].astype(alrat)\n",
    "df_CScore.DateCreditPulled = pd.to_datetime(df_CScore.DateCreditPulled)\n",
    "# fillna for na values in 'ProsperRating'\n",
    "df_CScore['ProsperRating (numeric)'].fillna(value = 0, inplace = True)\n",
    "df_CScore['ProsperRating (numeric)'] = df_CScore['ProsperRating (numeric)'].astype(int)\n",
    "df_CScore['PublicRecordsLast10Years'].fillna(value = 0, inplace = True)\n",
    "df_CScore['PublicRecordsLast12Months'].fillna(value = 0, inplace = True)\n",
    "df_CScore['PublicRecordsLast10Years'] = df_CScore['PublicRecordsLast10Years'].astype(int)\n",
    "df_CScore['PublicRecordsLast12Months'] = df_CScore['PublicRecordsLast12Months'].astype(int)\n",
    "df_CScore['ScorexChangeAtTimeOfListing'].fillna(value = 0, inplace = True)\n",
    "df_CScore['ProsperScore'].fillna(value = 0, inplace = True)\n",
    "df_CScore['ProsperScore'] = df_CScore['ProsperScore'].astype(int)"
   ]
  },
  {
   "cell_type": "code",
   "execution_count": 14,
   "metadata": {},
   "outputs": [],
   "source": [
    "# df_revolv fix datatypes\n",
    "df_Revolv['CurrentCreditLines'].fillna(value = 0, inplace = True)\n",
    "df_Revolv['OpenCreditLines'].fillna(value = 0, inplace = True)\n",
    "df_Revolv['TotalCreditLinespast7years'].fillna(value = 0, inplace = True)\n",
    "df_Revolv['OpenRevolvingAccounts'].fillna(value = 0, inplace = True)\n",
    "df_Revolv['CurrentCreditLines'] = df_Revolv['CurrentCreditLines'].astype(int)\n",
    "df_Revolv['OpenCreditLines'] = df_Revolv['OpenCreditLines'].astype(int)\n",
    "df_Revolv['TotalCreditLinespast7years'] = df_Revolv['TotalCreditLinespast7years'].astype(int)\n",
    "df_Revolv['OpenRevolvingAccounts'] = df_Revolv['OpenRevolvingAccounts'].astype(int)\n"
   ]
  },
  {
   "cell_type": "code",
   "execution_count": 15,
   "metadata": {},
   "outputs": [],
   "source": [
    "# df_delinquent fix data types\n",
    "df_Delinquent['CurrentDelinquencies'].fillna(value = 0, inplace = True)\n",
    "df_Delinquent['InquiriesLast6Months'].fillna(value = 0, inplace = True)\n",
    "df_Delinquent['CurrentDelinquencies'] = df_Delinquent['CurrentDelinquencies'].astype(int)\n",
    "df_Delinquent['InquiriesLast6Months'] = df_Delinquent['InquiriesLast6Months'].astype(int)\n",
    "df_Delinquent['DelinquenciesLast7Years'].fillna(value = 0, inplace = True)\n",
    "df_Delinquent['DelinquenciesLast7Years'] = df_Delinquent['DelinquenciesLast7Years'].astype(int)"
   ]
  },
  {
   "cell_type": "code",
   "execution_count": 16,
   "metadata": {},
   "outputs": [],
   "source": [
    "#df_amount fix datatypes\n",
    "\n",
    "df_Amount['ProsperPaymentsLessThanOneMonthLate'].fillna(value = 0, inplace = True)\n",
    "df_Amount['ProsperPaymentsLessThanOneMonthLate'] = df_Amount['ProsperPaymentsLessThanOneMonthLate'].astype(int)\n",
    "df_Amount['ProsperPaymentsOneMonthPlusLate'].fillna(value = 0, inplace = True)\n",
    "df_Amount['ProsperPaymentsOneMonthPlusLate'] = df_Amount['ProsperPaymentsOneMonthPlusLate'].astype(int)\n",
    "df_Amount['LoanFirstDefaultedCycleNumber'].fillna(value = 0, inplace = True)\n",
    "df_Amount['LoanFirstDefaultedCycleNumber'] = df_Amount['LoanFirstDefaultedCycleNumber'].astype(int)\n",
    "df_Amount['LoanOriginationDate'] = pd.to_datetime(df_Amount['LoanOriginationDate'])"
   ]
  },
  {
   "cell_type": "code",
   "execution_count": 17,
   "metadata": {},
   "outputs": [],
   "source": [
    "# df_trades fix datatypes\n",
    "df_Trades['TotalTrades'].fillna(value = 0 , inplace = True)\n",
    "df_Trades['TradesOpenedLast6Months'].fillna(value = 0, inplace = True)\n",
    "df_Trades['TotalTrades'] = df_Trades['TotalTrades'].astype(int)\n",
    "df_Trades['TradesOpenedLast6Months'] = df_Trades['TradesOpenedLast6Months'].astype(int)"
   ]
  },
  {
   "cell_type": "code",
   "execution_count": 18,
   "metadata": {},
   "outputs": [],
   "source": [
    "# df_payments fix datatypes\n",
    "df_Payments['TotalProsperLoans'].fillna(value = 0, inplace = True)\n",
    "df_Payments['TotalProsperPaymentsBilled'].fillna(value = 0, inplace = True)\n",
    "df_Payments['OnTimeProsperPayments'].fillna(value = 0, inplace = True)\n",
    "df_Payments['TotalProsperLoans'] = df_Payments['TotalProsperLoans'].astype(int)\n",
    "df_Payments['TotalProsperPaymentsBilled'] = df_Payments['TotalProsperPaymentsBilled'].astype(int)\n",
    "df_Payments['OnTimeProsperPayments'] = df_Payments['OnTimeProsperPayments'].astype(int)"
   ]
  },
  {
   "cell_type": "markdown",
   "metadata": {},
   "source": [
    "#### Null correction block"
   ]
  },
  {
   "cell_type": "code",
   "execution_count": 19,
   "metadata": {},
   "outputs": [
    {
     "name": "stdout",
     "output_type": "stream",
     "text": [
      "<class 'pandas.core.frame.DataFrame'>\n",
      "RangeIndex: 113937 entries, 0 to 113936\n",
      "Data columns (total 11 columns):\n",
      " #   Column                       Non-Null Count   Dtype         \n",
      "---  ------                       --------------   -----         \n",
      " 0   ListingKey                   113937 non-null  object        \n",
      " 1   ListingNumber                113937 non-null  int64         \n",
      " 2   ListingCreationDate          113937 non-null  datetime64[ns]\n",
      " 3   ProsperPrincipalBorrowed     113937 non-null  float64       \n",
      " 4   ProsperPrincipalOutstanding  113937 non-null  float64       \n",
      " 5   MemberKey                    113937 non-null  object        \n",
      " 6   PercentFunded                113937 non-null  float64       \n",
      " 7   Recommendations              113937 non-null  int64         \n",
      " 8   InvestmentFromFriendsCount   113937 non-null  int64         \n",
      " 9   InvestmentFromFriendsAmount  113937 non-null  float64       \n",
      " 10  Investors                    113937 non-null  int64         \n",
      "dtypes: datetime64[ns](1), float64(4), int64(4), object(2)\n",
      "memory usage: 9.6+ MB\n",
      "None\n",
      "<class 'pandas.core.frame.DataFrame'>\n",
      "RangeIndex: 113937 entries, 0 to 113936\n",
      "Data columns (total 11 columns):\n",
      " #   Column                       Non-Null Count   Dtype         \n",
      "---  ------                       --------------   -----         \n",
      " 0   CreditGrade                  28953 non-null   category      \n",
      " 1   ListingKey                   113937 non-null  object        \n",
      " 2   ProsperRating (numeric)      113937 non-null  int32         \n",
      " 3   ProsperRating (Alpha)        84853 non-null   category      \n",
      " 4   DateCreditPulled             113937 non-null  datetime64[ns]\n",
      " 5   CreditScoreRangeLower        113346 non-null  float64       \n",
      " 6   CreditScoreRangeUpper        113346 non-null  float64       \n",
      " 7   ScorexChangeAtTimeOfListing  113937 non-null  float64       \n",
      " 8   ProsperScore                 113937 non-null  int32         \n",
      " 9   PublicRecordsLast12Months    113937 non-null  int32         \n",
      " 10  PublicRecordsLast10Years     113937 non-null  int32         \n",
      "dtypes: category(2), datetime64[ns](1), float64(3), int32(4), object(1)\n",
      "memory usage: 6.3+ MB\n",
      "None\n",
      "<class 'pandas.core.frame.DataFrame'>\n",
      "RangeIndex: 113937 entries, 0 to 113936\n",
      "Data columns (total 6 columns):\n",
      " #   Column                   Non-Null Count   Dtype  \n",
      "---  ------                   --------------   -----  \n",
      " 0   ListingKey               113937 non-null  object \n",
      " 1   BorrowerRate             113937 non-null  float64\n",
      " 2   LenderYield              113937 non-null  float64\n",
      " 3   EstimatedEffectiveYield  84853 non-null   float64\n",
      " 4   EstimatedLoss            84853 non-null   float64\n",
      " 5   EstimatedReturn          84853 non-null   float64\n",
      "dtypes: float64(5), object(1)\n",
      "memory usage: 5.2+ MB\n",
      "None\n",
      "<class 'pandas.core.frame.DataFrame'>\n",
      "RangeIndex: 113937 entries, 0 to 113936\n",
      "Data columns (total 3 columns):\n",
      " #   Column                     Non-Null Count   Dtype \n",
      "---  ------                     --------------   ----- \n",
      " 0   ListingKey                 113937 non-null  object\n",
      " 1   IsBorrowerHomeowner        113937 non-null  bool  \n",
      " 2   ListingCategory (numeric)  113937 non-null  int64 \n",
      "dtypes: bool(1), int64(1), object(1)\n",
      "memory usage: 1.8+ MB\n",
      "None\n",
      "<class 'pandas.core.frame.DataFrame'>\n",
      "RangeIndex: 113937 entries, 0 to 113936\n",
      "Data columns (total 3 columns):\n",
      " #   Column            Non-Null Count   Dtype \n",
      "---  ------            --------------   ----- \n",
      " 0   ListingKey        113937 non-null  object\n",
      " 1   CurrentlyInGroup  113937 non-null  bool  \n",
      " 2   GroupKey          13341 non-null   object\n",
      "dtypes: bool(1), object(2)\n",
      "memory usage: 1.8+ MB\n",
      "None\n",
      "<class 'pandas.core.frame.DataFrame'>\n",
      "RangeIndex: 113937 entries, 0 to 113936\n",
      "Data columns (total 9 columns):\n",
      " #   Column                       Non-Null Count   Dtype  \n",
      "---  ------                       --------------   -----  \n",
      " 0   ListingKey                   113937 non-null  object \n",
      " 1   CurrentCreditLines           113937 non-null  int32  \n",
      " 2   OpenCreditLines              113937 non-null  int32  \n",
      " 3   TotalCreditLinespast7years   113937 non-null  int32  \n",
      " 4   OpenRevolvingAccounts        113937 non-null  int32  \n",
      " 5   OpenRevolvingMonthlyPayment  113937 non-null  float64\n",
      " 6   RevolvingCreditBalance       106333 non-null  float64\n",
      " 7   BankcardUtilization          106333 non-null  float64\n",
      " 8   AvailableBankcardCredit      106393 non-null  float64\n",
      "dtypes: float64(4), int32(4), object(1)\n",
      "memory usage: 6.1+ MB\n",
      "None\n",
      "<class 'pandas.core.frame.DataFrame'>\n",
      "RangeIndex: 113937 entries, 0 to 113936\n",
      "Data columns (total 6 columns):\n",
      " #   Column                     Non-Null Count   Dtype  \n",
      "---  ------                     --------------   -----  \n",
      " 0   InquiriesLast6Months       113937 non-null  int32  \n",
      " 1   ListingKey                 113937 non-null  object \n",
      " 2   TotalInquiries             112778 non-null  float64\n",
      " 3   CurrentDelinquencies       113937 non-null  int32  \n",
      " 4   DelinquenciesLast7Years    113937 non-null  int32  \n",
      " 5   LoanCurrentDaysDelinquent  113937 non-null  int64  \n",
      "dtypes: float64(1), int32(3), int64(1), object(1)\n",
      "memory usage: 3.9+ MB\n",
      "None\n",
      "<class 'pandas.core.frame.DataFrame'>\n",
      "RangeIndex: 113937 entries, 0 to 113936\n",
      "Data columns (total 10 columns):\n",
      " #   Column                               Non-Null Count   Dtype         \n",
      "---  ------                               --------------   -----         \n",
      " 0   ListingKey                           113937 non-null  object        \n",
      " 1   DebtToIncomeRatio                    105383 non-null  float64       \n",
      " 2   ProsperPaymentsLessThanOneMonthLate  113937 non-null  int32         \n",
      " 3   ProsperPaymentsOneMonthPlusLate      113937 non-null  int32         \n",
      " 4   LoanFirstDefaultedCycleNumber        113937 non-null  int32         \n",
      " 5   LoanMonthsSinceOrigination           113937 non-null  int64         \n",
      " 6   LoanNumber                           113937 non-null  int64         \n",
      " 7   LoanOriginalAmount                   113937 non-null  int64         \n",
      " 8   LoanOriginationDate                  113937 non-null  datetime64[ns]\n",
      " 9   LoanOriginationQuarter               113937 non-null  object        \n",
      "dtypes: datetime64[ns](1), float64(1), int32(3), int64(3), object(2)\n",
      "memory usage: 7.4+ MB\n",
      "None\n",
      "<class 'pandas.core.frame.DataFrame'>\n",
      "RangeIndex: 113937 entries, 0 to 113936\n",
      "Data columns (total 4 columns):\n",
      " #   Column      Non-Null Count   Dtype \n",
      "---  ------      --------------   ----- \n",
      " 0   Term        113937 non-null  int64 \n",
      " 1   ListingKey  113937 non-null  object\n",
      " 2   LoanStatus  113937 non-null  object\n",
      " 3   ClosedDate  55089 non-null   object\n",
      "dtypes: int64(1), object(3)\n",
      "memory usage: 3.5+ MB\n",
      "None\n",
      "<class 'pandas.core.frame.DataFrame'>\n",
      "RangeIndex: 113937 entries, 0 to 113936\n",
      "Data columns (total 4 columns):\n",
      " #   Column                              Non-Null Count   Dtype  \n",
      "---  ------                              --------------   -----  \n",
      " 0   ListingKey                          113937 non-null  object \n",
      " 1   TotalTrades                         113937 non-null  int32  \n",
      " 2   TradesNeverDelinquent (percentage)  106393 non-null  float64\n",
      " 3   TradesOpenedLast6Months             113937 non-null  int32  \n",
      "dtypes: float64(1), int32(2), object(1)\n",
      "memory usage: 2.6+ MB\n",
      "None\n",
      "<class 'pandas.core.frame.DataFrame'>\n",
      "RangeIndex: 113937 entries, 0 to 113936\n",
      "Data columns (total 4 columns):\n",
      " #   Column               Non-Null Count   Dtype  \n",
      "---  ------               --------------   -----  \n",
      " 0   ListingKey           113937 non-null  object \n",
      " 1   IncomeRange          113937 non-null  object \n",
      " 2   IncomeVerifiable     113937 non-null  bool   \n",
      " 3   StatedMonthlyIncome  113937 non-null  float64\n",
      "dtypes: bool(1), float64(1), object(2)\n",
      "memory usage: 2.7+ MB\n",
      "None\n",
      "<class 'pandas.core.frame.DataFrame'>\n",
      "RangeIndex: 113937 entries, 0 to 113936\n",
      "Data columns (total 14 columns):\n",
      " #   Column                           Non-Null Count   Dtype  \n",
      "---  ------                           --------------   -----  \n",
      " 0   ListingKey                       113937 non-null  object \n",
      " 1   LoanKey                          113937 non-null  object \n",
      " 2   TotalProsperLoans                113937 non-null  int32  \n",
      " 3   TotalProsperPaymentsBilled       113937 non-null  int32  \n",
      " 4   OnTimeProsperPayments            113937 non-null  int32  \n",
      " 5   MonthlyLoanPayment               113937 non-null  float64\n",
      " 6   LP_CustomerPayments              113937 non-null  float64\n",
      " 7   LP_CustomerPrincipalPayments     113937 non-null  float64\n",
      " 8   LP_InterestandFees               113937 non-null  float64\n",
      " 9   LP_ServiceFees                   113937 non-null  float64\n",
      " 10  LP_CollectionFees                113937 non-null  float64\n",
      " 11  LP_GrossPrincipalLoss            113937 non-null  float64\n",
      " 12  LP_NetPrincipalLoss              113937 non-null  float64\n",
      " 13  LP_NonPrincipalRecoverypayments  113937 non-null  float64\n",
      "dtypes: float64(9), int32(3), object(2)\n",
      "memory usage: 10.9+ MB\n"
     ]
    },
    {
     "name": "stdout",
     "output_type": "stream",
     "text": [
      "None\n",
      "<class 'pandas.core.frame.DataFrame'>\n",
      "RangeIndex: 113937 entries, 0 to 113936\n",
      "Data columns (total 4 columns):\n",
      " #   Column                    Non-Null Count   Dtype  \n",
      "---  ------                    --------------   -----  \n",
      " 0   ListingKey                113937 non-null  object \n",
      " 1   Occupation                110349 non-null  object \n",
      " 2   EmploymentStatus          111682 non-null  object \n",
      " 3   EmploymentStatusDuration  106312 non-null  float64\n",
      "dtypes: float64(1), object(3)\n",
      "memory usage: 3.5+ MB\n",
      "None\n"
     ]
    }
   ],
   "source": [
    "# check for remaining nulls\n",
    "print(df_Funded.info())\n",
    "print(df_CScore.info())\n",
    "print(df_Rate.info())\n",
    "print(df_List.info())\n",
    "print(df_Group.info())\n",
    "print(df_Revolv.info())\n",
    "print(df_Delinquent.info())\n",
    "print(df_Amount.info())\n",
    "print(df_Status.info())\n",
    "print(df_Trades.info())\n",
    "print(df_Income.info())\n",
    "print(df_Payments.info())\n",
    "print(df_Employment.info())"
   ]
  },
  {
   "cell_type": "code",
   "execution_count": 20,
   "metadata": {},
   "outputs": [],
   "source": [
    "#create combined CreditGrade and ProsperRating (Alpha) column\n",
    "df_CScore['combRating'] = df_CScore.CreditGrade.fillna(df_CScore['ProsperRating (Alpha)'])"
   ]
  },
  {
   "cell_type": "code",
   "execution_count": 21,
   "metadata": {},
   "outputs": [],
   "source": [
    "#fill na in combRating column\n",
    "df_CScore.combRating.fillna(value = 'NC', inplace = True)"
   ]
  },
  {
   "cell_type": "code",
   "execution_count": 22,
   "metadata": {},
   "outputs": [],
   "source": [
    "#drop CreditGrade and ProsperRating (Alpha) columns\n",
    "df_CScore.drop(columns = ['CreditGrade','ProsperRating (Alpha)'], inplace = True)"
   ]
  },
  {
   "cell_type": "code",
   "execution_count": 23,
   "metadata": {},
   "outputs": [],
   "source": [
    "# fill creditscorerange(lower/upper) nulls and create delta column\n",
    "df_CScore.CreditScoreRangeLower.fillna(value = 0, inplace = True)\n",
    "df_CScore.CreditScoreRangeUpper.fillna(value = 0, inplace = True)\n",
    "df_CScore['deltaCreditScore'] = df_CScore.CreditScoreRangeUpper - df_CScore.CreditScoreRangeLower"
   ]
  },
  {
   "cell_type": "code",
   "execution_count": 24,
   "metadata": {},
   "outputs": [
    {
     "name": "stdout",
     "output_type": "stream",
     "text": [
      "<class 'pandas.core.frame.DataFrame'>\n",
      "RangeIndex: 113937 entries, 0 to 113936\n",
      "Data columns (total 11 columns):\n",
      " #   Column                       Non-Null Count   Dtype         \n",
      "---  ------                       --------------   -----         \n",
      " 0   ListingKey                   113937 non-null  object        \n",
      " 1   ProsperRating (numeric)      113937 non-null  int32         \n",
      " 2   DateCreditPulled             113937 non-null  datetime64[ns]\n",
      " 3   CreditScoreRangeLower        113937 non-null  float64       \n",
      " 4   CreditScoreRangeUpper        113937 non-null  float64       \n",
      " 5   ScorexChangeAtTimeOfListing  113937 non-null  float64       \n",
      " 6   ProsperScore                 113937 non-null  int32         \n",
      " 7   PublicRecordsLast12Months    113937 non-null  int32         \n",
      " 8   PublicRecordsLast10Years     113937 non-null  int32         \n",
      " 9   combRating                   113937 non-null  category      \n",
      " 10  deltaCreditScore             113937 non-null  float64       \n",
      "dtypes: category(1), datetime64[ns](1), float64(4), int32(4), object(1)\n",
      "memory usage: 7.1+ MB\n"
     ]
    }
   ],
   "source": [
    "# verify column completion.\n",
    "df_CScore.info()"
   ]
  },
  {
   "cell_type": "code",
   "execution_count": 25,
   "metadata": {},
   "outputs": [
    {
     "name": "stdout",
     "output_type": "stream",
     "text": [
      "<class 'pandas.core.frame.DataFrame'>\n",
      "RangeIndex: 113937 entries, 0 to 113936\n",
      "Data columns (total 6 columns):\n",
      " #   Column                   Non-Null Count   Dtype  \n",
      "---  ------                   --------------   -----  \n",
      " 0   ListingKey               113937 non-null  object \n",
      " 1   BorrowerRate             113937 non-null  float64\n",
      " 2   LenderYield              113937 non-null  float64\n",
      " 3   EstimatedEffectiveYield  113937 non-null  float64\n",
      " 4   EstimatedLoss            113937 non-null  float64\n",
      " 5   EstimatedReturn          113937 non-null  float64\n",
      "dtypes: float64(5), object(1)\n",
      "memory usage: 5.2+ MB\n"
     ]
    }
   ],
   "source": [
    "# clean df_Rate's nulls \n",
    "df_Rate.fillna(value = 0, inplace = True)\n",
    "df_Rate.info()"
   ]
  },
  {
   "cell_type": "code",
   "execution_count": 26,
   "metadata": {},
   "outputs": [],
   "source": [
    "# For df_Group, since we are only interested in seeing if a group exists, or not, and we have\n",
    "# a boolean fully filled column next to it we do not need to clean up the nulls in the column labeled 'GroupKey'"
   ]
  },
  {
   "cell_type": "code",
   "execution_count": 27,
   "metadata": {},
   "outputs": [
    {
     "name": "stdout",
     "output_type": "stream",
     "text": [
      "<class 'pandas.core.frame.DataFrame'>\n",
      "RangeIndex: 113937 entries, 0 to 113936\n",
      "Data columns (total 9 columns):\n",
      " #   Column                       Non-Null Count   Dtype  \n",
      "---  ------                       --------------   -----  \n",
      " 0   ListingKey                   113937 non-null  object \n",
      " 1   CurrentCreditLines           113937 non-null  int32  \n",
      " 2   OpenCreditLines              113937 non-null  int32  \n",
      " 3   TotalCreditLinespast7years   113937 non-null  int32  \n",
      " 4   OpenRevolvingAccounts        113937 non-null  int32  \n",
      " 5   OpenRevolvingMonthlyPayment  113937 non-null  float64\n",
      " 6   RevolvingCreditBalance       113937 non-null  float64\n",
      " 7   BankcardUtilization          113937 non-null  float64\n",
      " 8   AvailableBankcardCredit      113937 non-null  float64\n",
      "dtypes: float64(4), int32(4), object(1)\n",
      "memory usage: 6.1+ MB\n"
     ]
    }
   ],
   "source": [
    "# Fill with zeros all nulls, which in this case is effectively the same as not having a balance/account\n",
    "df_Revolv['RevolvingCreditBalance'].fillna(value = 0, inplace = True)\n",
    "df_Revolv['BankcardUtilization'].fillna(value = 0, inplace = True)\n",
    "df_Revolv['AvailableBankcardCredit'].fillna(value = 0, inplace = True)\n",
    "df_Revolv.info()"
   ]
  },
  {
   "cell_type": "code",
   "execution_count": 28,
   "metadata": {},
   "outputs": [
    {
     "name": "stdout",
     "output_type": "stream",
     "text": [
      "<class 'pandas.core.frame.DataFrame'>\n",
      "RangeIndex: 113937 entries, 0 to 113936\n",
      "Data columns (total 6 columns):\n",
      " #   Column                     Non-Null Count   Dtype \n",
      "---  ------                     --------------   ----- \n",
      " 0   InquiriesLast6Months       113937 non-null  int32 \n",
      " 1   ListingKey                 113937 non-null  object\n",
      " 2   TotalInquiries             113937 non-null  int32 \n",
      " 3   CurrentDelinquencies       113937 non-null  int32 \n",
      " 4   DelinquenciesLast7Years    113937 non-null  int32 \n",
      " 5   LoanCurrentDaysDelinquent  113937 non-null  int64 \n",
      "dtypes: int32(4), int64(1), object(1)\n",
      "memory usage: 3.5+ MB\n"
     ]
    }
   ],
   "source": [
    "# Fill df_Delinquent total inquiries. AND change the datatype to the proper datatype (this was missed above)\n",
    "df_Delinquent.TotalInquiries.fillna(value = '0', inplace = True)\n",
    "df_Delinquent.TotalInquiries = df_Delinquent.TotalInquiries.astype(int)\n",
    "df_Delinquent.info()"
   ]
  },
  {
   "cell_type": "code",
   "execution_count": 29,
   "metadata": {},
   "outputs": [
    {
     "name": "stdout",
     "output_type": "stream",
     "text": [
      "<class 'pandas.core.frame.DataFrame'>\n",
      "RangeIndex: 113937 entries, 0 to 113936\n",
      "Data columns (total 10 columns):\n",
      " #   Column                               Non-Null Count   Dtype         \n",
      "---  ------                               --------------   -----         \n",
      " 0   ListingKey                           113937 non-null  object        \n",
      " 1   DebtToIncomeRatio                    113937 non-null  float64       \n",
      " 2   ProsperPaymentsLessThanOneMonthLate  113937 non-null  int32         \n",
      " 3   ProsperPaymentsOneMonthPlusLate      113937 non-null  int32         \n",
      " 4   LoanFirstDefaultedCycleNumber        113937 non-null  int32         \n",
      " 5   LoanMonthsSinceOrigination           113937 non-null  int64         \n",
      " 6   LoanNumber                           113937 non-null  int64         \n",
      " 7   LoanOriginalAmount                   113937 non-null  int64         \n",
      " 8   LoanOriginationDate                  113937 non-null  datetime64[ns]\n",
      " 9   LoanOriginationQuarter               113937 non-null  object        \n",
      "dtypes: datetime64[ns](1), float64(1), int32(3), int64(3), object(2)\n",
      "memory usage: 7.4+ MB\n"
     ]
    }
   ],
   "source": [
    "#fix df_Amount nulls Debt to income ratio nulls make no sense, if you have no debt '0' is fine, if you do\n",
    "# then it isn't a null already.\n",
    "df_Amount.DebtToIncomeRatio.fillna(value = 0, inplace = True)\n",
    "df_Amount.info()"
   ]
  },
  {
   "cell_type": "code",
   "execution_count": 30,
   "metadata": {},
   "outputs": [
    {
     "name": "stdout",
     "output_type": "stream",
     "text": [
      "<class 'pandas.core.frame.DataFrame'>\n",
      "RangeIndex: 113937 entries, 0 to 113936\n",
      "Data columns (total 4 columns):\n",
      " #   Column      Non-Null Count   Dtype         \n",
      "---  ------      --------------   -----         \n",
      " 0   Term        113937 non-null  int64         \n",
      " 1   ListingKey  113937 non-null  object        \n",
      " 2   LoanStatus  113937 non-null  object        \n",
      " 3   ClosedDate  55089 non-null   datetime64[ns]\n",
      "dtypes: datetime64[ns](1), int64(1), object(2)\n",
      "memory usage: 3.5+ MB\n"
     ]
    }
   ],
   "source": [
    "# Closed date should be datetime. it is okay for this status to have nulls as some loans are not yet closed. \n",
    "df_Status.ClosedDate = pd.to_datetime(df_Status.ClosedDate)\n",
    "df_Status.info()"
   ]
  },
  {
   "cell_type": "code",
   "execution_count": 31,
   "metadata": {},
   "outputs": [
    {
     "name": "stdout",
     "output_type": "stream",
     "text": [
      "<class 'pandas.core.frame.DataFrame'>\n",
      "RangeIndex: 113937 entries, 0 to 113936\n",
      "Data columns (total 4 columns):\n",
      " #   Column                              Non-Null Count   Dtype  \n",
      "---  ------                              --------------   -----  \n",
      " 0   ListingKey                          113937 non-null  object \n",
      " 1   TotalTrades                         113937 non-null  int32  \n",
      " 2   TradesNeverDelinquent (percentage)  113937 non-null  float64\n",
      " 3   TradesOpenedLast6Months             113937 non-null  int32  \n",
      "dtypes: float64(1), int32(2), object(1)\n",
      "memory usage: 2.6+ MB\n"
     ]
    }
   ],
   "source": [
    "# Trades never delinquent is a percentage. The nulls are likely people who have no trades\n",
    "# For this reason I am assigning \"2\" to this column as no one can have 200% non-delinquent trades\n",
    "# But someone could have 0% never delinquent trades... this will allow me to clean it up further later\n",
    "# if needed for further analysis\n",
    "df_Trades['TradesNeverDelinquent (percentage)'].fillna(value = 2, inplace = True)\n",
    "df_Trades.info()"
   ]
  },
  {
   "cell_type": "code",
   "execution_count": 32,
   "metadata": {},
   "outputs": [
    {
     "name": "stdout",
     "output_type": "stream",
     "text": [
      "<class 'pandas.core.frame.DataFrame'>\n",
      "RangeIndex: 113937 entries, 0 to 113936\n",
      "Data columns (total 4 columns):\n",
      " #   Column               Non-Null Count   Dtype   \n",
      "---  ------               --------------   -----   \n",
      " 0   ListingKey           113937 non-null  object  \n",
      " 1   IncomeRange          113937 non-null  category\n",
      " 2   IncomeVerifiable     113937 non-null  bool    \n",
      " 3   StatedMonthlyIncome  113937 non-null  float64 \n",
      "dtypes: bool(1), category(1), float64(1), object(1)\n",
      "memory usage: 2.0+ MB\n"
     ]
    }
   ],
   "source": [
    "# Income range should be converted to categorical datatype\n",
    "df_Income.IncomeRange = df_Income.IncomeRange.astype(incran)\n",
    "df_Income.info()"
   ]
  },
  {
   "cell_type": "code",
   "execution_count": 33,
   "metadata": {},
   "outputs": [
    {
     "name": "stdout",
     "output_type": "stream",
     "text": [
      "<class 'pandas.core.frame.DataFrame'>\n",
      "RangeIndex: 113937 entries, 0 to 113936\n",
      "Data columns (total 4 columns):\n",
      " #   Column                    Non-Null Count   Dtype  \n",
      "---  ------                    --------------   -----  \n",
      " 0   ListingKey                113937 non-null  object \n",
      " 1   Occupation                113937 non-null  object \n",
      " 2   EmploymentStatus          111682 non-null  object \n",
      " 3   EmploymentStatusDuration  106312 non-null  float64\n",
      "dtypes: float64(1), object(3)\n",
      "memory usage: 3.5+ MB\n"
     ]
    }
   ],
   "source": [
    "#df_Employment \n",
    "df_Employment.Occupation.fillna(value = 'Unknown', inplace = True)\n",
    "df_Employment.info()"
   ]
  },
  {
   "cell_type": "markdown",
   "metadata": {},
   "source": [
    "### Initial Analysis of the data frames:\n",
    "\n",
    "df_Funded\n",
    "\n",
    "df_CScore\n",
    "\n",
    "df_Rate\n",
    "\n",
    "df_List\n",
    "\n",
    "df_Group\n",
    "\n",
    "df_Revolv\n",
    "\n",
    "df_Delinquent\n",
    "\n",
    "df_Amount\n",
    "\n",
    "df_Status\n",
    "\n",
    "df_Trades\n",
    "\n",
    "df_Income\n",
    "\n",
    "df_Payments\n",
    "\n",
    "df_Employment"
   ]
  },
  {
   "cell_type": "markdown",
   "metadata": {},
   "source": [
    "#### Univariate Visual analysis"
   ]
  },
  {
   "cell_type": "code",
   "execution_count": 34,
   "metadata": {},
   "outputs": [
    {
     "data": {
      "text/html": [
       "<div>\n",
       "<style scoped>\n",
       "    .dataframe tbody tr th:only-of-type {\n",
       "        vertical-align: middle;\n",
       "    }\n",
       "\n",
       "    .dataframe tbody tr th {\n",
       "        vertical-align: top;\n",
       "    }\n",
       "\n",
       "    .dataframe thead th {\n",
       "        text-align: right;\n",
       "    }\n",
       "</style>\n",
       "<table border=\"1\" class=\"dataframe\">\n",
       "  <thead>\n",
       "    <tr style=\"text-align: right;\">\n",
       "      <th></th>\n",
       "      <th>ListingNumber</th>\n",
       "      <th>ProsperPrincipalBorrowed</th>\n",
       "      <th>ProsperPrincipalOutstanding</th>\n",
       "      <th>PercentFunded</th>\n",
       "      <th>Recommendations</th>\n",
       "      <th>InvestmentFromFriendsCount</th>\n",
       "      <th>InvestmentFromFriendsAmount</th>\n",
       "      <th>Investors</th>\n",
       "    </tr>\n",
       "  </thead>\n",
       "  <tbody>\n",
       "    <tr>\n",
       "      <th>count</th>\n",
       "      <td>1.139370e+05</td>\n",
       "      <td>113937.000000</td>\n",
       "      <td>113937.000000</td>\n",
       "      <td>113937.000000</td>\n",
       "      <td>113937.000000</td>\n",
       "      <td>113937.000000</td>\n",
       "      <td>113937.000000</td>\n",
       "      <td>113937.000000</td>\n",
       "    </tr>\n",
       "    <tr>\n",
       "      <th>mean</th>\n",
       "      <td>6.278857e+05</td>\n",
       "      <td>1642.232196</td>\n",
       "      <td>567.997952</td>\n",
       "      <td>0.998584</td>\n",
       "      <td>0.048027</td>\n",
       "      <td>0.023460</td>\n",
       "      <td>16.550751</td>\n",
       "      <td>80.475228</td>\n",
       "    </tr>\n",
       "    <tr>\n",
       "      <th>std</th>\n",
       "      <td>3.280762e+05</td>\n",
       "      <td>4670.954909</td>\n",
       "      <td>2037.268511</td>\n",
       "      <td>0.017919</td>\n",
       "      <td>0.332353</td>\n",
       "      <td>0.232412</td>\n",
       "      <td>294.545422</td>\n",
       "      <td>103.239020</td>\n",
       "    </tr>\n",
       "    <tr>\n",
       "      <th>min</th>\n",
       "      <td>4.000000e+00</td>\n",
       "      <td>0.000000</td>\n",
       "      <td>0.000000</td>\n",
       "      <td>0.700000</td>\n",
       "      <td>0.000000</td>\n",
       "      <td>0.000000</td>\n",
       "      <td>0.000000</td>\n",
       "      <td>1.000000</td>\n",
       "    </tr>\n",
       "    <tr>\n",
       "      <th>25%</th>\n",
       "      <td>4.009190e+05</td>\n",
       "      <td>0.000000</td>\n",
       "      <td>0.000000</td>\n",
       "      <td>1.000000</td>\n",
       "      <td>0.000000</td>\n",
       "      <td>0.000000</td>\n",
       "      <td>0.000000</td>\n",
       "      <td>2.000000</td>\n",
       "    </tr>\n",
       "    <tr>\n",
       "      <th>50%</th>\n",
       "      <td>6.005540e+05</td>\n",
       "      <td>0.000000</td>\n",
       "      <td>0.000000</td>\n",
       "      <td>1.000000</td>\n",
       "      <td>0.000000</td>\n",
       "      <td>0.000000</td>\n",
       "      <td>0.000000</td>\n",
       "      <td>44.000000</td>\n",
       "    </tr>\n",
       "    <tr>\n",
       "      <th>75%</th>\n",
       "      <td>8.926340e+05</td>\n",
       "      <td>0.000000</td>\n",
       "      <td>0.000000</td>\n",
       "      <td>1.000000</td>\n",
       "      <td>0.000000</td>\n",
       "      <td>0.000000</td>\n",
       "      <td>0.000000</td>\n",
       "      <td>115.000000</td>\n",
       "    </tr>\n",
       "    <tr>\n",
       "      <th>max</th>\n",
       "      <td>1.255725e+06</td>\n",
       "      <td>72499.000000</td>\n",
       "      <td>23450.950000</td>\n",
       "      <td>1.012500</td>\n",
       "      <td>39.000000</td>\n",
       "      <td>33.000000</td>\n",
       "      <td>25000.000000</td>\n",
       "      <td>1189.000000</td>\n",
       "    </tr>\n",
       "  </tbody>\n",
       "</table>\n",
       "</div>"
      ],
      "text/plain": [
       "       ListingNumber  ProsperPrincipalBorrowed  ProsperPrincipalOutstanding  \\\n",
       "count   1.139370e+05             113937.000000                113937.000000   \n",
       "mean    6.278857e+05               1642.232196                   567.997952   \n",
       "std     3.280762e+05               4670.954909                  2037.268511   \n",
       "min     4.000000e+00                  0.000000                     0.000000   \n",
       "25%     4.009190e+05                  0.000000                     0.000000   \n",
       "50%     6.005540e+05                  0.000000                     0.000000   \n",
       "75%     8.926340e+05                  0.000000                     0.000000   \n",
       "max     1.255725e+06              72499.000000                 23450.950000   \n",
       "\n",
       "       PercentFunded  Recommendations  InvestmentFromFriendsCount  \\\n",
       "count  113937.000000    113937.000000               113937.000000   \n",
       "mean        0.998584         0.048027                    0.023460   \n",
       "std         0.017919         0.332353                    0.232412   \n",
       "min         0.700000         0.000000                    0.000000   \n",
       "25%         1.000000         0.000000                    0.000000   \n",
       "50%         1.000000         0.000000                    0.000000   \n",
       "75%         1.000000         0.000000                    0.000000   \n",
       "max         1.012500        39.000000                   33.000000   \n",
       "\n",
       "       InvestmentFromFriendsAmount      Investors  \n",
       "count                113937.000000  113937.000000  \n",
       "mean                     16.550751      80.475228  \n",
       "std                     294.545422     103.239020  \n",
       "min                       0.000000       1.000000  \n",
       "25%                       0.000000       2.000000  \n",
       "50%                       0.000000      44.000000  \n",
       "75%                       0.000000     115.000000  \n",
       "max                   25000.000000    1189.000000  "
      ]
     },
     "execution_count": 34,
     "metadata": {},
     "output_type": "execute_result"
    }
   ],
   "source": [
    "# For Funded, we're most intersted in the Investors number\n",
    "df_Funded.describe()"
   ]
  },
  {
   "cell_type": "code",
   "execution_count": 35,
   "metadata": {},
   "outputs": [
    {
     "data": {
      "image/png": "[encoded data removed]",
      "text/plain": [
       "<Figure size 432x288 with 1 Axes>"
      ]
     },
     "metadata": {
      "needs_background": "light"
     },
     "output_type": "display_data"
    }
   ],
   "source": [
    "# Histogram of full investors range\n",
    "bins = np.arange(1, 1190, 10)\n",
    "plt.hist(df_Funded.Investors, bins = bins);"
   ]
  },
  {
   "cell_type": "code",
   "execution_count": 36,
   "metadata": {},
   "outputs": [
    {
     "data": {
      "image/png": "[encoded data removed]",
      "text/plain": [
       "<Figure size 432x288 with 1 Axes>"
      ]
     },
     "metadata": {
      "needs_background": "light"
     },
     "output_type": "display_data"
    }
   ],
   "source": [
    "# Narrowing the range down to where the bulk of our right skewed data lie, below 200\n",
    "bins = np.arange(1, 200, 20)\n",
    "plt.hist(df_Funded.Investors, bins = bins)\n",
    "plt.xlim(0,200);"
   ]
  },
  {
   "cell_type": "markdown",
   "metadata": {},
   "source": []
  },
  {
   "cell_type": "code",
   "execution_count": 37,
   "metadata": {},
   "outputs": [
    {
     "data": {
      "text/html": [
       "<div>\n",
       "<style scoped>\n",
       "    .dataframe tbody tr th:only-of-type {\n",
       "        vertical-align: middle;\n",
       "    }\n",
       "\n",
       "    .dataframe tbody tr th {\n",
       "        vertical-align: top;\n",
       "    }\n",
       "\n",
       "    .dataframe thead th {\n",
       "        text-align: right;\n",
       "    }\n",
       "</style>\n",
       "<table border=\"1\" class=\"dataframe\">\n",
       "  <thead>\n",
       "    <tr style=\"text-align: right;\">\n",
       "      <th></th>\n",
       "      <th>ListingKey</th>\n",
       "      <th>ProsperRating (numeric)</th>\n",
       "      <th>DateCreditPulled</th>\n",
       "      <th>CreditScoreRangeLower</th>\n",
       "      <th>CreditScoreRangeUpper</th>\n",
       "      <th>ScorexChangeAtTimeOfListing</th>\n",
       "      <th>ProsperScore</th>\n",
       "      <th>PublicRecordsLast12Months</th>\n",
       "      <th>PublicRecordsLast10Years</th>\n",
       "      <th>combRating</th>\n",
       "      <th>deltaCreditScore</th>\n",
       "    </tr>\n",
       "  </thead>\n",
       "  <tbody>\n",
       "    <tr>\n",
       "      <th>0</th>\n",
       "      <td>1021339766868145413AB3B</td>\n",
       "      <td>0</td>\n",
       "      <td>2007-08-26 18:41:46.780</td>\n",
       "      <td>640.0</td>\n",
       "      <td>659.0</td>\n",
       "      <td>0.0</td>\n",
       "      <td>0</td>\n",
       "      <td>0</td>\n",
       "      <td>0</td>\n",
       "      <td>C</td>\n",
       "      <td>19.0</td>\n",
       "    </tr>\n",
       "    <tr>\n",
       "      <th>1</th>\n",
       "      <td>10273602499503308B223C1</td>\n",
       "      <td>6</td>\n",
       "      <td>2014-02-27 08:28:14.000</td>\n",
       "      <td>680.0</td>\n",
       "      <td>699.0</td>\n",
       "      <td>0.0</td>\n",
       "      <td>7</td>\n",
       "      <td>0</td>\n",
       "      <td>1</td>\n",
       "      <td>A</td>\n",
       "      <td>19.0</td>\n",
       "    </tr>\n",
       "    <tr>\n",
       "      <th>2</th>\n",
       "      <td>0EE9337825851032864889A</td>\n",
       "      <td>0</td>\n",
       "      <td>2007-01-02 14:09:10.060</td>\n",
       "      <td>480.0</td>\n",
       "      <td>499.0</td>\n",
       "      <td>0.0</td>\n",
       "      <td>0</td>\n",
       "      <td>0</td>\n",
       "      <td>0</td>\n",
       "      <td>HR</td>\n",
       "      <td>19.0</td>\n",
       "    </tr>\n",
       "    <tr>\n",
       "      <th>3</th>\n",
       "      <td>0EF5356002482715299901A</td>\n",
       "      <td>6</td>\n",
       "      <td>2012-10-22 11:02:32.000</td>\n",
       "      <td>800.0</td>\n",
       "      <td>819.0</td>\n",
       "      <td>0.0</td>\n",
       "      <td>9</td>\n",
       "      <td>0</td>\n",
       "      <td>0</td>\n",
       "      <td>A</td>\n",
       "      <td>19.0</td>\n",
       "    </tr>\n",
       "    <tr>\n",
       "      <th>4</th>\n",
       "      <td>0F023589499656230C5E3E2</td>\n",
       "      <td>3</td>\n",
       "      <td>2013-09-14 18:38:44.000</td>\n",
       "      <td>680.0</td>\n",
       "      <td>699.0</td>\n",
       "      <td>0.0</td>\n",
       "      <td>4</td>\n",
       "      <td>0</td>\n",
       "      <td>0</td>\n",
       "      <td>D</td>\n",
       "      <td>19.0</td>\n",
       "    </tr>\n",
       "  </tbody>\n",
       "</table>\n",
       "</div>"
      ],
      "text/plain": [
       "                ListingKey  ProsperRating (numeric)        DateCreditPulled  \\\n",
       "0  1021339766868145413AB3B                        0 2007-08-26 18:41:46.780   \n",
       "1  10273602499503308B223C1                        6 2014-02-27 08:28:14.000   \n",
       "2  0EE9337825851032864889A                        0 2007-01-02 14:09:10.060   \n",
       "3  0EF5356002482715299901A                        6 2012-10-22 11:02:32.000   \n",
       "4  0F023589499656230C5E3E2                        3 2013-09-14 18:38:44.000   \n",
       "\n",
       "   CreditScoreRangeLower  CreditScoreRangeUpper  ScorexChangeAtTimeOfListing  \\\n",
       "0                  640.0                  659.0                          0.0   \n",
       "1                  680.0                  699.0                          0.0   \n",
       "2                  480.0                  499.0                          0.0   \n",
       "3                  800.0                  819.0                          0.0   \n",
       "4                  680.0                  699.0                          0.0   \n",
       "\n",
       "   ProsperScore  PublicRecordsLast12Months  PublicRecordsLast10Years  \\\n",
       "0             0                          0                         0   \n",
       "1             7                          0                         1   \n",
       "2             0                          0                         0   \n",
       "3             9                          0                         0   \n",
       "4             4                          0                         0   \n",
       "\n",
       "  combRating  deltaCreditScore  \n",
       "0          C              19.0  \n",
       "1          A              19.0  \n",
       "2         HR              19.0  \n",
       "3          A              19.0  \n",
       "4          D              19.0  "
      ]
     },
     "execution_count": 37,
     "metadata": {},
     "output_type": "execute_result"
    }
   ],
   "source": [
    "# For CScore, we're interested in the Credit Scores themselves. \n",
    "df_CScore.head()"
   ]
  },
  {
   "cell_type": "code",
   "execution_count": 38,
   "metadata": {},
   "outputs": [
    {
     "data": {
      "image/png": "[encoded data removed]",
      "text/plain": [
       "<Figure size 432x288 with 1 Axes>"
      ]
     },
     "metadata": {
      "needs_background": "light"
     },
     "output_type": "display_data"
    }
   ],
   "source": [
    "# Historgam of the bulk range between 450 and 899 for the upper limit\n",
    "bins = np.arange(0, 1000, 20)\n",
    "plt.hist(df_CScore.CreditScoreRangeUpper, bins = bins)\n",
    "plt.xlim(450,900)\n",
    "plt.axvline(df_CScore.CreditScoreRangeUpper.mean(), color = 'r');"
   ]
  },
  {
   "cell_type": "markdown",
   "metadata": {},
   "source": []
  },
  {
   "cell_type": "code",
   "execution_count": 39,
   "metadata": {},
   "outputs": [
    {
     "data": {
      "image/png": "[encoded data removed]",
      "text/plain": [
       "<Figure size 432x288 with 1 Axes>"
      ]
     },
     "metadata": {
      "needs_background": "light"
     },
     "output_type": "display_data"
    }
   ],
   "source": [
    "# Historgam of the bulk range between 450 and 899 for the lower limit\n",
    "bins = np.arange(0, 1000, 20)\n",
    "plt.hist(df_CScore.CreditScoreRangeLower, bins = bins)\n",
    "plt.xlim(450,900)\n",
    "plt.axvline(df_CScore.CreditScoreRangeLower.mean(), color = 'r');"
   ]
  },
  {
   "cell_type": "markdown",
   "metadata": {},
   "source": []
  },
  {
   "cell_type": "code",
   "execution_count": 40,
   "metadata": {},
   "outputs": [
    {
     "data": {
      "text/plain": [
       "<AxesSubplot:xlabel='combRating', ylabel='count'>"
      ]
     },
     "execution_count": 40,
     "metadata": {},
     "output_type": "execute_result"
    },
    {
     "data": {
      "image/png": "[encoded data removed]",
      "text/plain": [
       "<Figure size 432x288 with 1 Axes>"
      ]
     },
     "metadata": {
      "needs_background": "light"
     },
     "output_type": "display_data"
    }
   ],
   "source": [
    "sns.countplot(data = df_CScore, x = 'combRating', color = sns.color_palette()[0])"
   ]
  },
  {
   "cell_type": "markdown",
   "metadata": {},
   "source": []
  },
  {
   "cell_type": "code",
   "execution_count": 41,
   "metadata": {},
   "outputs": [
    {
     "data": {
      "text/html": [
       "<div>\n",
       "<style scoped>\n",
       "    .dataframe tbody tr th:only-of-type {\n",
       "        vertical-align: middle;\n",
       "    }\n",
       "\n",
       "    .dataframe tbody tr th {\n",
       "        vertical-align: top;\n",
       "    }\n",
       "\n",
       "    .dataframe thead th {\n",
       "        text-align: right;\n",
       "    }\n",
       "</style>\n",
       "<table border=\"1\" class=\"dataframe\">\n",
       "  <thead>\n",
       "    <tr style=\"text-align: right;\">\n",
       "      <th></th>\n",
       "      <th>BorrowerRate</th>\n",
       "      <th>LenderYield</th>\n",
       "      <th>EstimatedEffectiveYield</th>\n",
       "      <th>EstimatedLoss</th>\n",
       "      <th>EstimatedReturn</th>\n",
       "    </tr>\n",
       "  </thead>\n",
       "  <tbody>\n",
       "    <tr>\n",
       "      <th>count</th>\n",
       "      <td>113937.000000</td>\n",
       "      <td>113937.000000</td>\n",
       "      <td>113937.000000</td>\n",
       "      <td>113937.000000</td>\n",
       "      <td>113937.000000</td>\n",
       "    </tr>\n",
       "    <tr>\n",
       "      <th>mean</th>\n",
       "      <td>0.192764</td>\n",
       "      <td>0.182701</td>\n",
       "      <td>0.125608</td>\n",
       "      <td>0.059807</td>\n",
       "      <td>0.071546</td>\n",
       "    </tr>\n",
       "    <tr>\n",
       "      <th>std</th>\n",
       "      <td>0.074818</td>\n",
       "      <td>0.074516</td>\n",
       "      <td>0.094335</td>\n",
       "      <td>0.053428</td>\n",
       "      <td>0.049426</td>\n",
       "    </tr>\n",
       "    <tr>\n",
       "      <th>min</th>\n",
       "      <td>0.000000</td>\n",
       "      <td>-0.010000</td>\n",
       "      <td>-0.182700</td>\n",
       "      <td>0.000000</td>\n",
       "      <td>-0.182700</td>\n",
       "    </tr>\n",
       "    <tr>\n",
       "      <th>25%</th>\n",
       "      <td>0.134000</td>\n",
       "      <td>0.124200</td>\n",
       "      <td>0.000000</td>\n",
       "      <td>0.000000</td>\n",
       "      <td>0.000000</td>\n",
       "    </tr>\n",
       "    <tr>\n",
       "      <th>50%</th>\n",
       "      <td>0.184000</td>\n",
       "      <td>0.173000</td>\n",
       "      <td>0.131440</td>\n",
       "      <td>0.052400</td>\n",
       "      <td>0.079900</td>\n",
       "    </tr>\n",
       "    <tr>\n",
       "      <th>75%</th>\n",
       "      <td>0.250000</td>\n",
       "      <td>0.240000</td>\n",
       "      <td>0.195200</td>\n",
       "      <td>0.097500</td>\n",
       "      <td>0.108700</td>\n",
       "    </tr>\n",
       "    <tr>\n",
       "      <th>max</th>\n",
       "      <td>0.497500</td>\n",
       "      <td>0.492500</td>\n",
       "      <td>0.319900</td>\n",
       "      <td>0.366000</td>\n",
       "      <td>0.283700</td>\n",
       "    </tr>\n",
       "  </tbody>\n",
       "</table>\n",
       "</div>"
      ],
      "text/plain": [
       "        BorrowerRate    LenderYield  EstimatedEffectiveYield  EstimatedLoss  \\\n",
       "count  113937.000000  113937.000000            113937.000000  113937.000000   \n",
       "mean        0.192764       0.182701                 0.125608       0.059807   \n",
       "std         0.074818       0.074516                 0.094335       0.053428   \n",
       "min         0.000000      -0.010000                -0.182700       0.000000   \n",
       "25%         0.134000       0.124200                 0.000000       0.000000   \n",
       "50%         0.184000       0.173000                 0.131440       0.052400   \n",
       "75%         0.250000       0.240000                 0.195200       0.097500   \n",
       "max         0.497500       0.492500                 0.319900       0.366000   \n",
       "\n",
       "       EstimatedReturn  \n",
       "count    113937.000000  \n",
       "mean          0.071546  \n",
       "std           0.049426  \n",
       "min          -0.182700  \n",
       "25%           0.000000  \n",
       "50%           0.079900  \n",
       "75%           0.108700  \n",
       "max           0.283700  "
      ]
     },
     "execution_count": 41,
     "metadata": {},
     "output_type": "execute_result"
    }
   ],
   "source": [
    "# I think here we're really more interested in effective yield.\n",
    "df_Rate.describe()"
   ]
  },
  {
   "cell_type": "code",
   "execution_count": 42,
   "metadata": {},
   "outputs": [
    {
     "data": {
      "text/plain": [
       "<AxesSubplot:xlabel='EstimatedEffectiveYield', ylabel='Density'>"
      ]
     },
     "execution_count": 42,
     "metadata": {},
     "output_type": "execute_result"
    },
    {
     "data": {
      "image/png": "[encoded data removed]",
      "text/plain": [
       "<Figure size 432x288 with 1 Axes>"
      ]
     },
     "metadata": {
      "needs_background": "light"
     },
     "output_type": "display_data"
    }
   ],
   "source": [
    "# Kdeplot for estimated effective yield\n",
    "sns.kdeplot(df_Rate.EstimatedEffectiveYield)"
   ]
  },
  {
   "cell_type": "markdown",
   "metadata": {},
   "source": []
  },
  {
   "cell_type": "code",
   "execution_count": 43,
   "metadata": {},
   "outputs": [
    {
     "data": {
      "text/html": [
       "<div>\n",
       "<style scoped>\n",
       "    .dataframe tbody tr th:only-of-type {\n",
       "        vertical-align: middle;\n",
       "    }\n",
       "\n",
       "    .dataframe tbody tr th {\n",
       "        vertical-align: top;\n",
       "    }\n",
       "\n",
       "    .dataframe thead th {\n",
       "        text-align: right;\n",
       "    }\n",
       "</style>\n",
       "<table border=\"1\" class=\"dataframe\">\n",
       "  <thead>\n",
       "    <tr style=\"text-align: right;\">\n",
       "      <th></th>\n",
       "      <th>ListingKey</th>\n",
       "      <th>IsBorrowerHomeowner</th>\n",
       "      <th>ListingCategory (numeric)</th>\n",
       "    </tr>\n",
       "  </thead>\n",
       "  <tbody>\n",
       "    <tr>\n",
       "      <th>0</th>\n",
       "      <td>1021339766868145413AB3B</td>\n",
       "      <td>True</td>\n",
       "      <td>0</td>\n",
       "    </tr>\n",
       "    <tr>\n",
       "      <th>1</th>\n",
       "      <td>10273602499503308B223C1</td>\n",
       "      <td>False</td>\n",
       "      <td>2</td>\n",
       "    </tr>\n",
       "    <tr>\n",
       "      <th>2</th>\n",
       "      <td>0EE9337825851032864889A</td>\n",
       "      <td>False</td>\n",
       "      <td>0</td>\n",
       "    </tr>\n",
       "    <tr>\n",
       "      <th>3</th>\n",
       "      <td>0EF5356002482715299901A</td>\n",
       "      <td>True</td>\n",
       "      <td>16</td>\n",
       "    </tr>\n",
       "    <tr>\n",
       "      <th>4</th>\n",
       "      <td>0F023589499656230C5E3E2</td>\n",
       "      <td>True</td>\n",
       "      <td>2</td>\n",
       "    </tr>\n",
       "  </tbody>\n",
       "</table>\n",
       "</div>"
      ],
      "text/plain": [
       "                ListingKey  IsBorrowerHomeowner  ListingCategory (numeric)\n",
       "0  1021339766868145413AB3B                 True                          0\n",
       "1  10273602499503308B223C1                False                          2\n",
       "2  0EE9337825851032864889A                False                          0\n",
       "3  0EF5356002482715299901A                 True                         16\n",
       "4  0F023589499656230C5E3E2                 True                          2"
      ]
     },
     "execution_count": 43,
     "metadata": {},
     "output_type": "execute_result"
    }
   ],
   "source": [
    "# In df_List we're most interested in \"IsBorrowerHomeOwner\", but ListingCategory may also come into play\n",
    "df_List.head()"
   ]
  },
  {
   "cell_type": "code",
   "execution_count": 44,
   "metadata": {},
   "outputs": [
    {
     "data": {
      "image/png": "[encoded data removed]",
      "text/plain": [
       "<Figure size 432x288 with 1 Axes>"
      ]
     },
     "metadata": {
      "needs_background": "light"
     },
     "output_type": "display_data"
    }
   ],
   "source": [
    "#Histogram for listingcategory\n",
    "bins = np.arange(df_List['ListingCategory (numeric)'].min(),df_List['ListingCategory (numeric)'].max(), 1)\n",
    "plt.hist(data = df_List, x = 'ListingCategory (numeric)', bins = bins);\n",
    "plt.xlim(1,19)\n",
    "plt.xticks(np.arange(1,20,1));"
   ]
  },
  {
   "cell_type": "markdown",
   "metadata": {},
   "source": []
  },
  {
   "cell_type": "code",
   "execution_count": 45,
   "metadata": {},
   "outputs": [
    {
     "data": {
      "text/html": [
       "<div>\n",
       "<style scoped>\n",
       "    .dataframe tbody tr th:only-of-type {\n",
       "        vertical-align: middle;\n",
       "    }\n",
       "\n",
       "    .dataframe tbody tr th {\n",
       "        vertical-align: top;\n",
       "    }\n",
       "\n",
       "    .dataframe thead th {\n",
       "        text-align: right;\n",
       "    }\n",
       "</style>\n",
       "<table border=\"1\" class=\"dataframe\">\n",
       "  <thead>\n",
       "    <tr style=\"text-align: right;\">\n",
       "      <th></th>\n",
       "      <th>ListingKey</th>\n",
       "      <th>CurrentlyInGroup</th>\n",
       "      <th>GroupKey</th>\n",
       "    </tr>\n",
       "  </thead>\n",
       "  <tbody>\n",
       "    <tr>\n",
       "      <th>0</th>\n",
       "      <td>1021339766868145413AB3B</td>\n",
       "      <td>True</td>\n",
       "      <td>NaN</td>\n",
       "    </tr>\n",
       "    <tr>\n",
       "      <th>1</th>\n",
       "      <td>10273602499503308B223C1</td>\n",
       "      <td>False</td>\n",
       "      <td>NaN</td>\n",
       "    </tr>\n",
       "    <tr>\n",
       "      <th>2</th>\n",
       "      <td>0EE9337825851032864889A</td>\n",
       "      <td>True</td>\n",
       "      <td>783C3371218786870A73D20</td>\n",
       "    </tr>\n",
       "    <tr>\n",
       "      <th>3</th>\n",
       "      <td>0EF5356002482715299901A</td>\n",
       "      <td>False</td>\n",
       "      <td>NaN</td>\n",
       "    </tr>\n",
       "    <tr>\n",
       "      <th>4</th>\n",
       "      <td>0F023589499656230C5E3E2</td>\n",
       "      <td>False</td>\n",
       "      <td>NaN</td>\n",
       "    </tr>\n",
       "  </tbody>\n",
       "</table>\n",
       "</div>"
      ],
      "text/plain": [
       "                ListingKey  CurrentlyInGroup                 GroupKey\n",
       "0  1021339766868145413AB3B              True                      NaN\n",
       "1  10273602499503308B223C1             False                      NaN\n",
       "2  0EE9337825851032864889A              True  783C3371218786870A73D20\n",
       "3  0EF5356002482715299901A             False                      NaN\n",
       "4  0F023589499656230C5E3E2             False                      NaN"
      ]
     },
     "execution_count": 45,
     "metadata": {},
     "output_type": "execute_result"
    }
   ],
   "source": [
    "# for df_Group this isn't a dataframe to be used by itself, but possibly for comparisons later.\n",
    "df_Group.head()"
   ]
  },
  {
   "cell_type": "code",
   "execution_count": null,
   "metadata": {},
   "outputs": [],
   "source": []
  },
  {
   "cell_type": "code",
   "execution_count": 46,
   "metadata": {},
   "outputs": [
    {
     "data": {
      "text/html": [
       "<div>\n",
       "<style scoped>\n",
       "    .dataframe tbody tr th:only-of-type {\n",
       "        vertical-align: middle;\n",
       "    }\n",
       "\n",
       "    .dataframe tbody tr th {\n",
       "        vertical-align: top;\n",
       "    }\n",
       "\n",
       "    .dataframe thead th {\n",
       "        text-align: right;\n",
       "    }\n",
       "</style>\n",
       "<table border=\"1\" class=\"dataframe\">\n",
       "  <thead>\n",
       "    <tr style=\"text-align: right;\">\n",
       "      <th></th>\n",
       "      <th>CurrentCreditLines</th>\n",
       "      <th>OpenCreditLines</th>\n",
       "      <th>TotalCreditLinespast7years</th>\n",
       "      <th>OpenRevolvingAccounts</th>\n",
       "      <th>OpenRevolvingMonthlyPayment</th>\n",
       "      <th>RevolvingCreditBalance</th>\n",
       "      <th>BankcardUtilization</th>\n",
       "      <th>AvailableBankcardCredit</th>\n",
       "    </tr>\n",
       "  </thead>\n",
       "  <tbody>\n",
       "    <tr>\n",
       "      <th>count</th>\n",
       "      <td>113937.000000</td>\n",
       "      <td>113937.000000</td>\n",
       "      <td>113937.000000</td>\n",
       "      <td>113937.00000</td>\n",
       "      <td>113937.000000</td>\n",
       "      <td>1.139370e+05</td>\n",
       "      <td>113937.000000</td>\n",
       "      <td>113937.000000</td>\n",
       "    </tr>\n",
       "    <tr>\n",
       "      <th>mean</th>\n",
       "      <td>9.628637</td>\n",
       "      <td>8.642153</td>\n",
       "      <td>26.590870</td>\n",
       "      <td>6.96979</td>\n",
       "      <td>398.292161</td>\n",
       "      <td>1.642419e+04</td>\n",
       "      <td>0.523848</td>\n",
       "      <td>10467.973670</td>\n",
       "    </tr>\n",
       "    <tr>\n",
       "      <th>std</th>\n",
       "      <td>5.867722</td>\n",
       "      <td>5.374413</td>\n",
       "      <td>13.755212</td>\n",
       "      <td>4.63097</td>\n",
       "      <td>447.159711</td>\n",
       "      <td>3.212006e+04</td>\n",
       "      <td>0.337565</td>\n",
       "      <td>19352.809288</td>\n",
       "    </tr>\n",
       "    <tr>\n",
       "      <th>min</th>\n",
       "      <td>0.000000</td>\n",
       "      <td>0.000000</td>\n",
       "      <td>0.000000</td>\n",
       "      <td>0.00000</td>\n",
       "      <td>0.000000</td>\n",
       "      <td>0.000000e+00</td>\n",
       "      <td>0.000000</td>\n",
       "      <td>0.000000</td>\n",
       "    </tr>\n",
       "    <tr>\n",
       "      <th>25%</th>\n",
       "      <td>6.000000</td>\n",
       "      <td>5.000000</td>\n",
       "      <td>17.000000</td>\n",
       "      <td>4.00000</td>\n",
       "      <td>114.000000</td>\n",
       "      <td>2.091000e+03</td>\n",
       "      <td>0.230000</td>\n",
       "      <td>531.000000</td>\n",
       "    </tr>\n",
       "    <tr>\n",
       "      <th>50%</th>\n",
       "      <td>9.000000</td>\n",
       "      <td>8.000000</td>\n",
       "      <td>25.000000</td>\n",
       "      <td>6.00000</td>\n",
       "      <td>271.000000</td>\n",
       "      <td>7.593000e+03</td>\n",
       "      <td>0.560000</td>\n",
       "      <td>3457.000000</td>\n",
       "    </tr>\n",
       "    <tr>\n",
       "      <th>75%</th>\n",
       "      <td>13.000000</td>\n",
       "      <td>12.000000</td>\n",
       "      <td>35.000000</td>\n",
       "      <td>9.00000</td>\n",
       "      <td>525.000000</td>\n",
       "      <td>1.825400e+04</td>\n",
       "      <td>0.820000</td>\n",
       "      <td>12078.000000</td>\n",
       "    </tr>\n",
       "    <tr>\n",
       "      <th>max</th>\n",
       "      <td>59.000000</td>\n",
       "      <td>54.000000</td>\n",
       "      <td>136.000000</td>\n",
       "      <td>51.00000</td>\n",
       "      <td>14985.000000</td>\n",
       "      <td>1.435667e+06</td>\n",
       "      <td>5.950000</td>\n",
       "      <td>646285.000000</td>\n",
       "    </tr>\n",
       "  </tbody>\n",
       "</table>\n",
       "</div>"
      ],
      "text/plain": [
       "       CurrentCreditLines  OpenCreditLines  TotalCreditLinespast7years  \\\n",
       "count       113937.000000    113937.000000               113937.000000   \n",
       "mean             9.628637         8.642153                   26.590870   \n",
       "std              5.867722         5.374413                   13.755212   \n",
       "min              0.000000         0.000000                    0.000000   \n",
       "25%              6.000000         5.000000                   17.000000   \n",
       "50%              9.000000         8.000000                   25.000000   \n",
       "75%             13.000000        12.000000                   35.000000   \n",
       "max             59.000000        54.000000                  136.000000   \n",
       "\n",
       "       OpenRevolvingAccounts  OpenRevolvingMonthlyPayment  \\\n",
       "count           113937.00000                113937.000000   \n",
       "mean                 6.96979                   398.292161   \n",
       "std                  4.63097                   447.159711   \n",
       "min                  0.00000                     0.000000   \n",
       "25%                  4.00000                   114.000000   \n",
       "50%                  6.00000                   271.000000   \n",
       "75%                  9.00000                   525.000000   \n",
       "max                 51.00000                 14985.000000   \n",
       "\n",
       "       RevolvingCreditBalance  BankcardUtilization  AvailableBankcardCredit  \n",
       "count            1.139370e+05        113937.000000            113937.000000  \n",
       "mean             1.642419e+04             0.523848             10467.973670  \n",
       "std              3.212006e+04             0.337565             19352.809288  \n",
       "min              0.000000e+00             0.000000                 0.000000  \n",
       "25%              2.091000e+03             0.230000               531.000000  \n",
       "50%              7.593000e+03             0.560000              3457.000000  \n",
       "75%              1.825400e+04             0.820000             12078.000000  \n",
       "max              1.435667e+06             5.950000            646285.000000  "
      ]
     },
     "execution_count": 46,
     "metadata": {},
     "output_type": "execute_result"
    }
   ],
   "source": [
    "# for df_Revolv\n",
    "df_Revolv.describe()"
   ]
  },
  {
   "cell_type": "code",
   "execution_count": 47,
   "metadata": {},
   "outputs": [
    {
     "data": {
      "image/png": "[encoded data removed]",
      "text/plain": [
       "<Figure size 432x288 with 1 Axes>"
      ]
     },
     "metadata": {
      "needs_background": "light"
     },
     "output_type": "display_data"
    }
   ],
   "source": [
    "bins = np.arange(0, 60, 6)\n",
    "plt.hist(df_Revolv.CurrentCreditLines, bins = bins);"
   ]
  },
  {
   "cell_type": "code",
   "execution_count": 48,
   "metadata": {},
   "outputs": [
    {
     "data": {
      "image/png": "[encoded data removed]",
      "text/plain": [
       "<Figure size 432x288 with 1 Axes>"
      ]
     },
     "metadata": {
      "needs_background": "light"
     },
     "output_type": "display_data"
    }
   ],
   "source": [
    "bins = np.arange(0, 60, 6)\n",
    "plt.hist(df_Revolv.OpenCreditLines, bins = bins);"
   ]
  },
  {
   "cell_type": "code",
   "execution_count": 49,
   "metadata": {},
   "outputs": [
    {
     "data": {
      "image/png": "[encoded data removed]",
      "text/plain": [
       "<Figure size 432x288 with 1 Axes>"
      ]
     },
     "metadata": {
      "needs_background": "light"
     },
     "output_type": "display_data"
    }
   ],
   "source": [
    "bins = np.arange(0, 140, 15)\n",
    "plt.hist(df_Revolv.TotalCreditLinespast7years, bins = bins);"
   ]
  },
  {
   "cell_type": "code",
   "execution_count": 50,
   "metadata": {},
   "outputs": [
    {
     "data": {
      "image/png": "[encoded data removed]",
      "text/plain": [
       "<Figure size 432x288 with 1 Axes>"
      ]
     },
     "metadata": {
      "needs_background": "light"
     },
     "output_type": "display_data"
    }
   ],
   "source": [
    "bins = np.arange(0, 60, 5)\n",
    "plt.hist(df_Revolv.OpenRevolvingAccounts, bins = bins);"
   ]
  },
  {
   "cell_type": "markdown",
   "metadata": {},
   "source": []
  },
  {
   "cell_type": "code",
   "execution_count": 51,
   "metadata": {},
   "outputs": [
    {
     "data": {
      "text/html": [
       "<div>\n",
       "<style scoped>\n",
       "    .dataframe tbody tr th:only-of-type {\n",
       "        vertical-align: middle;\n",
       "    }\n",
       "\n",
       "    .dataframe tbody tr th {\n",
       "        vertical-align: top;\n",
       "    }\n",
       "\n",
       "    .dataframe thead th {\n",
       "        text-align: right;\n",
       "    }\n",
       "</style>\n",
       "<table border=\"1\" class=\"dataframe\">\n",
       "  <thead>\n",
       "    <tr style=\"text-align: right;\">\n",
       "      <th></th>\n",
       "      <th>InquiriesLast6Months</th>\n",
       "      <th>TotalInquiries</th>\n",
       "      <th>CurrentDelinquencies</th>\n",
       "      <th>DelinquenciesLast7Years</th>\n",
       "      <th>LoanCurrentDaysDelinquent</th>\n",
       "    </tr>\n",
       "  </thead>\n",
       "  <tbody>\n",
       "    <tr>\n",
       "      <th>count</th>\n",
       "      <td>113937.000000</td>\n",
       "      <td>113937.000000</td>\n",
       "      <td>113937.000000</td>\n",
       "      <td>113937.000000</td>\n",
       "      <td>113937.000000</td>\n",
       "    </tr>\n",
       "    <tr>\n",
       "      <th>mean</th>\n",
       "      <td>1.426306</td>\n",
       "      <td>5.527599</td>\n",
       "      <td>0.588430</td>\n",
       "      <td>4.118881</td>\n",
       "      <td>152.816539</td>\n",
       "    </tr>\n",
       "    <tr>\n",
       "      <th>std</th>\n",
       "      <td>2.432615</td>\n",
       "      <td>6.421654</td>\n",
       "      <td>1.973185</td>\n",
       "      <td>10.123325</td>\n",
       "      <td>466.320254</td>\n",
       "    </tr>\n",
       "    <tr>\n",
       "      <th>min</th>\n",
       "      <td>0.000000</td>\n",
       "      <td>0.000000</td>\n",
       "      <td>0.000000</td>\n",
       "      <td>0.000000</td>\n",
       "      <td>0.000000</td>\n",
       "    </tr>\n",
       "    <tr>\n",
       "      <th>25%</th>\n",
       "      <td>0.000000</td>\n",
       "      <td>2.000000</td>\n",
       "      <td>0.000000</td>\n",
       "      <td>0.000000</td>\n",
       "      <td>0.000000</td>\n",
       "    </tr>\n",
       "    <tr>\n",
       "      <th>50%</th>\n",
       "      <td>1.000000</td>\n",
       "      <td>4.000000</td>\n",
       "      <td>0.000000</td>\n",
       "      <td>0.000000</td>\n",
       "      <td>0.000000</td>\n",
       "    </tr>\n",
       "    <tr>\n",
       "      <th>75%</th>\n",
       "      <td>2.000000</td>\n",
       "      <td>7.000000</td>\n",
       "      <td>0.000000</td>\n",
       "      <td>3.000000</td>\n",
       "      <td>0.000000</td>\n",
       "    </tr>\n",
       "    <tr>\n",
       "      <th>max</th>\n",
       "      <td>105.000000</td>\n",
       "      <td>379.000000</td>\n",
       "      <td>83.000000</td>\n",
       "      <td>99.000000</td>\n",
       "      <td>2704.000000</td>\n",
       "    </tr>\n",
       "  </tbody>\n",
       "</table>\n",
       "</div>"
      ],
      "text/plain": [
       "       InquiriesLast6Months  TotalInquiries  CurrentDelinquencies  \\\n",
       "count         113937.000000   113937.000000         113937.000000   \n",
       "mean               1.426306        5.527599              0.588430   \n",
       "std                2.432615        6.421654              1.973185   \n",
       "min                0.000000        0.000000              0.000000   \n",
       "25%                0.000000        2.000000              0.000000   \n",
       "50%                1.000000        4.000000              0.000000   \n",
       "75%                2.000000        7.000000              0.000000   \n",
       "max              105.000000      379.000000             83.000000   \n",
       "\n",
       "       DelinquenciesLast7Years  LoanCurrentDaysDelinquent  \n",
       "count            113937.000000              113937.000000  \n",
       "mean                  4.118881                 152.816539  \n",
       "std                  10.123325                 466.320254  \n",
       "min                   0.000000                   0.000000  \n",
       "25%                   0.000000                   0.000000  \n",
       "50%                   0.000000                   0.000000  \n",
       "75%                   3.000000                   0.000000  \n",
       "max                  99.000000                2704.000000  "
      ]
     },
     "execution_count": 51,
     "metadata": {},
     "output_type": "execute_result"
    }
   ],
   "source": [
    "# for df_Delinquent, we'll be looking at inquiries and delinquencies\n",
    "df_Delinquent.describe()"
   ]
  },
  {
   "cell_type": "code",
   "execution_count": 52,
   "metadata": {},
   "outputs": [
    {
     "data": {
      "image/png": "[encoded data removed]",
      "text/plain": [
       "<Figure size 432x288 with 1 Axes>"
      ]
     },
     "metadata": {
      "needs_background": "light"
     },
     "output_type": "display_data"
    }
   ],
   "source": [
    "bins = np.arange(0, 106, 1)\n",
    "plt.hist(df_Delinquent.InquiriesLast6Months, bins = bins)\n",
    "plt.xlim(0,20)\n",
    "plt.xticks(np.arange(1,20,1));"
   ]
  },
  {
   "cell_type": "code",
   "execution_count": 53,
   "metadata": {},
   "outputs": [
    {
     "data": {
      "image/png": "[encoded data removed]",
      "text/plain": [
       "<Figure size 432x288 with 1 Axes>"
      ]
     },
     "metadata": {
      "needs_background": "light"
     },
     "output_type": "display_data"
    }
   ],
   "source": [
    "bins = np.arange(0, 379, 5)\n",
    "plt.hist(df_Delinquent.TotalInquiries, bins = bins)\n",
    "plt.xlim(0, 50)\n",
    "plt.xticks(np.arange(0,50,5));"
   ]
  },
  {
   "cell_type": "markdown",
   "metadata": {},
   "source": []
  },
  {
   "cell_type": "code",
   "execution_count": 54,
   "metadata": {},
   "outputs": [
    {
     "data": {
      "text/html": [
       "<div>\n",
       "<style scoped>\n",
       "    .dataframe tbody tr th:only-of-type {\n",
       "        vertical-align: middle;\n",
       "    }\n",
       "\n",
       "    .dataframe tbody tr th {\n",
       "        vertical-align: top;\n",
       "    }\n",
       "\n",
       "    .dataframe thead th {\n",
       "        text-align: right;\n",
       "    }\n",
       "</style>\n",
       "<table border=\"1\" class=\"dataframe\">\n",
       "  <thead>\n",
       "    <tr style=\"text-align: right;\">\n",
       "      <th></th>\n",
       "      <th>ListingKey</th>\n",
       "      <th>DebtToIncomeRatio</th>\n",
       "      <th>ProsperPaymentsLessThanOneMonthLate</th>\n",
       "      <th>ProsperPaymentsOneMonthPlusLate</th>\n",
       "      <th>LoanFirstDefaultedCycleNumber</th>\n",
       "      <th>LoanMonthsSinceOrigination</th>\n",
       "      <th>LoanNumber</th>\n",
       "      <th>LoanOriginalAmount</th>\n",
       "      <th>LoanOriginationDate</th>\n",
       "      <th>LoanOriginationQuarter</th>\n",
       "    </tr>\n",
       "  </thead>\n",
       "  <tbody>\n",
       "    <tr>\n",
       "      <th>0</th>\n",
       "      <td>1021339766868145413AB3B</td>\n",
       "      <td>0.17</td>\n",
       "      <td>0</td>\n",
       "      <td>0</td>\n",
       "      <td>0</td>\n",
       "      <td>78</td>\n",
       "      <td>19141</td>\n",
       "      <td>9425</td>\n",
       "      <td>2007-09-12</td>\n",
       "      <td>Q3 2007</td>\n",
       "    </tr>\n",
       "    <tr>\n",
       "      <th>1</th>\n",
       "      <td>10273602499503308B223C1</td>\n",
       "      <td>0.18</td>\n",
       "      <td>0</td>\n",
       "      <td>0</td>\n",
       "      <td>0</td>\n",
       "      <td>0</td>\n",
       "      <td>134815</td>\n",
       "      <td>10000</td>\n",
       "      <td>2014-03-03</td>\n",
       "      <td>Q1 2014</td>\n",
       "    </tr>\n",
       "    <tr>\n",
       "      <th>2</th>\n",
       "      <td>0EE9337825851032864889A</td>\n",
       "      <td>0.06</td>\n",
       "      <td>0</td>\n",
       "      <td>0</td>\n",
       "      <td>0</td>\n",
       "      <td>86</td>\n",
       "      <td>6466</td>\n",
       "      <td>3001</td>\n",
       "      <td>2007-01-17</td>\n",
       "      <td>Q1 2007</td>\n",
       "    </tr>\n",
       "    <tr>\n",
       "      <th>3</th>\n",
       "      <td>0EF5356002482715299901A</td>\n",
       "      <td>0.15</td>\n",
       "      <td>0</td>\n",
       "      <td>0</td>\n",
       "      <td>0</td>\n",
       "      <td>16</td>\n",
       "      <td>77296</td>\n",
       "      <td>10000</td>\n",
       "      <td>2012-11-01</td>\n",
       "      <td>Q4 2012</td>\n",
       "    </tr>\n",
       "    <tr>\n",
       "      <th>4</th>\n",
       "      <td>0F023589499656230C5E3E2</td>\n",
       "      <td>0.26</td>\n",
       "      <td>0</td>\n",
       "      <td>0</td>\n",
       "      <td>0</td>\n",
       "      <td>6</td>\n",
       "      <td>102670</td>\n",
       "      <td>15000</td>\n",
       "      <td>2013-09-20</td>\n",
       "      <td>Q3 2013</td>\n",
       "    </tr>\n",
       "  </tbody>\n",
       "</table>\n",
       "</div>"
      ],
      "text/plain": [
       "                ListingKey  DebtToIncomeRatio  \\\n",
       "0  1021339766868145413AB3B               0.17   \n",
       "1  10273602499503308B223C1               0.18   \n",
       "2  0EE9337825851032864889A               0.06   \n",
       "3  0EF5356002482715299901A               0.15   \n",
       "4  0F023589499656230C5E3E2               0.26   \n",
       "\n",
       "   ProsperPaymentsLessThanOneMonthLate  ProsperPaymentsOneMonthPlusLate  \\\n",
       "0                                    0                                0   \n",
       "1                                    0                                0   \n",
       "2                                    0                                0   \n",
       "3                                    0                                0   \n",
       "4                                    0                                0   \n",
       "\n",
       "   LoanFirstDefaultedCycleNumber  LoanMonthsSinceOrigination  LoanNumber  \\\n",
       "0                              0                          78       19141   \n",
       "1                              0                           0      134815   \n",
       "2                              0                          86        6466   \n",
       "3                              0                          16       77296   \n",
       "4                              0                           6      102670   \n",
       "\n",
       "   LoanOriginalAmount LoanOriginationDate LoanOriginationQuarter  \n",
       "0                9425          2007-09-12                Q3 2007  \n",
       "1               10000          2014-03-03                Q1 2014  \n",
       "2                3001          2007-01-17                Q1 2007  \n",
       "3               10000          2012-11-01                Q4 2012  \n",
       "4               15000          2013-09-20                Q3 2013  "
      ]
     },
     "execution_count": 54,
     "metadata": {},
     "output_type": "execute_result"
    }
   ],
   "source": [
    "# df_Amount here we're looking at the amounts borrowed\n",
    "df_Amount.head()"
   ]
  },
  {
   "cell_type": "code",
   "execution_count": 55,
   "metadata": {},
   "outputs": [
    {
     "name": "stderr",
     "output_type": "stream",
     "text": [
      "C:\\Users\\Chris\\anaconda3\\lib\\site-packages\\seaborn\\distributions.py:2551: FutureWarning: `distplot` is a deprecated function and will be removed in a future version. Please adapt your code to use either `displot` (a figure-level function with similar flexibility) or `histplot` (an axes-level function for histograms).\n",
      "  warnings.warn(msg, FutureWarning)\n"
     ]
    },
    {
     "data": {
      "text/plain": [
       "<AxesSubplot:xlabel='LoanOriginalAmount', ylabel='Density'>"
      ]
     },
     "execution_count": 55,
     "metadata": {},
     "output_type": "execute_result"
    },
    {
     "data": {
      "image/png": "[encoded data removed]",
      "text/plain": [
       "<Figure size 432x288 with 1 Axes>"
      ]
     },
     "metadata": {
      "needs_background": "light"
     },
     "output_type": "display_data"
    }
   ],
   "source": [
    "sns.distplot(df_Amount['LoanOriginalAmount'])"
   ]
  },
  {
   "cell_type": "markdown",
   "metadata": {},
   "source": [
    "Loan original amount is multimodal, it will be interesting perhaps to see what factors influence this"
   ]
  },
  {
   "cell_type": "code",
   "execution_count": 56,
   "metadata": {},
   "outputs": [
    {
     "data": {
      "text/html": [
       "<div>\n",
       "<style scoped>\n",
       "    .dataframe tbody tr th:only-of-type {\n",
       "        vertical-align: middle;\n",
       "    }\n",
       "\n",
       "    .dataframe tbody tr th {\n",
       "        vertical-align: top;\n",
       "    }\n",
       "\n",
       "    .dataframe thead th {\n",
       "        text-align: right;\n",
       "    }\n",
       "</style>\n",
       "<table border=\"1\" class=\"dataframe\">\n",
       "  <thead>\n",
       "    <tr style=\"text-align: right;\">\n",
       "      <th></th>\n",
       "      <th>Term</th>\n",
       "      <th>ListingKey</th>\n",
       "      <th>LoanStatus</th>\n",
       "      <th>ClosedDate</th>\n",
       "    </tr>\n",
       "  </thead>\n",
       "  <tbody>\n",
       "    <tr>\n",
       "      <th>0</th>\n",
       "      <td>36</td>\n",
       "      <td>1021339766868145413AB3B</td>\n",
       "      <td>Completed</td>\n",
       "      <td>2009-08-14</td>\n",
       "    </tr>\n",
       "    <tr>\n",
       "      <th>1</th>\n",
       "      <td>36</td>\n",
       "      <td>10273602499503308B223C1</td>\n",
       "      <td>Current</td>\n",
       "      <td>NaT</td>\n",
       "    </tr>\n",
       "    <tr>\n",
       "      <th>2</th>\n",
       "      <td>36</td>\n",
       "      <td>0EE9337825851032864889A</td>\n",
       "      <td>Completed</td>\n",
       "      <td>2009-12-17</td>\n",
       "    </tr>\n",
       "    <tr>\n",
       "      <th>3</th>\n",
       "      <td>36</td>\n",
       "      <td>0EF5356002482715299901A</td>\n",
       "      <td>Current</td>\n",
       "      <td>NaT</td>\n",
       "    </tr>\n",
       "    <tr>\n",
       "      <th>4</th>\n",
       "      <td>36</td>\n",
       "      <td>0F023589499656230C5E3E2</td>\n",
       "      <td>Current</td>\n",
       "      <td>NaT</td>\n",
       "    </tr>\n",
       "  </tbody>\n",
       "</table>\n",
       "</div>"
      ],
      "text/plain": [
       "   Term               ListingKey LoanStatus ClosedDate\n",
       "0    36  1021339766868145413AB3B  Completed 2009-08-14\n",
       "1    36  10273602499503308B223C1    Current        NaT\n",
       "2    36  0EE9337825851032864889A  Completed 2009-12-17\n",
       "3    36  0EF5356002482715299901A    Current        NaT\n",
       "4    36  0F023589499656230C5E3E2    Current        NaT"
      ]
     },
     "execution_count": 56,
     "metadata": {},
     "output_type": "execute_result"
    }
   ],
   "source": [
    "# for df_Status\n",
    "df_Status.head()"
   ]
  },
  {
   "cell_type": "code",
   "execution_count": 57,
   "metadata": {},
   "outputs": [
    {
     "data": {
      "image/png": "[encoded data removed]",
      "text/plain": [
       "<Figure size 432x288 with 1 Axes>"
      ]
     },
     "metadata": {
      "needs_background": "light"
     },
     "output_type": "display_data"
    }
   ],
   "source": [
    "sns.histplot(df_Status.LoanStatus)\n",
    "plt.xticks(rotation = 'vertical');"
   ]
  },
  {
   "cell_type": "markdown",
   "metadata": {},
   "source": []
  },
  {
   "cell_type": "code",
   "execution_count": 58,
   "metadata": {},
   "outputs": [
    {
     "data": {
      "text/html": [
       "<div>\n",
       "<style scoped>\n",
       "    .dataframe tbody tr th:only-of-type {\n",
       "        vertical-align: middle;\n",
       "    }\n",
       "\n",
       "    .dataframe tbody tr th {\n",
       "        vertical-align: top;\n",
       "    }\n",
       "\n",
       "    .dataframe thead th {\n",
       "        text-align: right;\n",
       "    }\n",
       "</style>\n",
       "<table border=\"1\" class=\"dataframe\">\n",
       "  <thead>\n",
       "    <tr style=\"text-align: right;\">\n",
       "      <th></th>\n",
       "      <th>TotalTrades</th>\n",
       "      <th>TradesNeverDelinquent (percentage)</th>\n",
       "      <th>TradesOpenedLast6Months</th>\n",
       "    </tr>\n",
       "  </thead>\n",
       "  <tbody>\n",
       "    <tr>\n",
       "      <th>count</th>\n",
       "      <td>113937.000000</td>\n",
       "      <td>113937.000000</td>\n",
       "      <td>113937.000000</td>\n",
       "    </tr>\n",
       "    <tr>\n",
       "      <th>mean</th>\n",
       "      <td>21.691926</td>\n",
       "      <td>0.959664</td>\n",
       "      <td>0.749204</td>\n",
       "    </tr>\n",
       "    <tr>\n",
       "      <th>std</th>\n",
       "      <td>12.843739</td>\n",
       "      <td>0.311843</td>\n",
       "      <td>1.079275</td>\n",
       "    </tr>\n",
       "    <tr>\n",
       "      <th>min</th>\n",
       "      <td>0.000000</td>\n",
       "      <td>0.000000</td>\n",
       "      <td>0.000000</td>\n",
       "    </tr>\n",
       "    <tr>\n",
       "      <th>25%</th>\n",
       "      <td>13.000000</td>\n",
       "      <td>0.830000</td>\n",
       "      <td>0.000000</td>\n",
       "    </tr>\n",
       "    <tr>\n",
       "      <th>50%</th>\n",
       "      <td>21.000000</td>\n",
       "      <td>0.950000</td>\n",
       "      <td>0.000000</td>\n",
       "    </tr>\n",
       "    <tr>\n",
       "      <th>75%</th>\n",
       "      <td>29.000000</td>\n",
       "      <td>1.000000</td>\n",
       "      <td>1.000000</td>\n",
       "    </tr>\n",
       "    <tr>\n",
       "      <th>max</th>\n",
       "      <td>126.000000</td>\n",
       "      <td>2.000000</td>\n",
       "      <td>20.000000</td>\n",
       "    </tr>\n",
       "  </tbody>\n",
       "</table>\n",
       "</div>"
      ],
      "text/plain": [
       "         TotalTrades  TradesNeverDelinquent (percentage)  \\\n",
       "count  113937.000000                       113937.000000   \n",
       "mean       21.691926                            0.959664   \n",
       "std        12.843739                            0.311843   \n",
       "min         0.000000                            0.000000   \n",
       "25%        13.000000                            0.830000   \n",
       "50%        21.000000                            0.950000   \n",
       "75%        29.000000                            1.000000   \n",
       "max       126.000000                            2.000000   \n",
       "\n",
       "       TradesOpenedLast6Months  \n",
       "count            113937.000000  \n",
       "mean                  0.749204  \n",
       "std                   1.079275  \n",
       "min                   0.000000  \n",
       "25%                   0.000000  \n",
       "50%                   0.000000  \n",
       "75%                   1.000000  \n",
       "max                  20.000000  "
      ]
     },
     "execution_count": 58,
     "metadata": {},
     "output_type": "execute_result"
    }
   ],
   "source": [
    "# df_Trades\n",
    "df_Trades.describe()"
   ]
  },
  {
   "cell_type": "code",
   "execution_count": 59,
   "metadata": {},
   "outputs": [
    {
     "data": {
      "text/plain": [
       "(0.0, 80.0)"
      ]
     },
     "execution_count": 59,
     "metadata": {},
     "output_type": "execute_result"
    },
    {
     "data": {
      "image/png": "[encoded data removed]",
      "text/plain": [
       "<Figure size 432x288 with 1 Axes>"
      ]
     },
     "metadata": {
      "needs_background": "light"
     },
     "output_type": "display_data"
    }
   ],
   "source": [
    "sns.histplot(df_Trades.TotalTrades, bins = np.arange(0, 130, 5))\n",
    "plt.xlim(0,80)"
   ]
  },
  {
   "cell_type": "code",
   "execution_count": 60,
   "metadata": {},
   "outputs": [
    {
     "data": {
      "text/plain": [
       "(0.0, 1.1)"
      ]
     },
     "execution_count": 60,
     "metadata": {},
     "output_type": "execute_result"
    },
    {
     "data": {
      "image/png": "[encoded data removed]",
      "text/plain": [
       "<Figure size 432x288 with 1 Axes>"
      ]
     },
     "metadata": {
      "needs_background": "light"
     },
     "output_type": "display_data"
    }
   ],
   "source": [
    "#kde plot with limit of 1.1 (peak is at 1.0) note that there are values out to 2, as assinged earlier.\n",
    "sns.kdeplot(df_Trades['TradesNeverDelinquent (percentage)'])\n",
    "plt.xlim(0,1.1)"
   ]
  },
  {
   "cell_type": "markdown",
   "metadata": {},
   "source": []
  },
  {
   "cell_type": "code",
   "execution_count": 61,
   "metadata": {},
   "outputs": [
    {
     "data": {
      "text/html": [
       "<div>\n",
       "<style scoped>\n",
       "    .dataframe tbody tr th:only-of-type {\n",
       "        vertical-align: middle;\n",
       "    }\n",
       "\n",
       "    .dataframe tbody tr th {\n",
       "        vertical-align: top;\n",
       "    }\n",
       "\n",
       "    .dataframe thead th {\n",
       "        text-align: right;\n",
       "    }\n",
       "</style>\n",
       "<table border=\"1\" class=\"dataframe\">\n",
       "  <thead>\n",
       "    <tr style=\"text-align: right;\">\n",
       "      <th></th>\n",
       "      <th>ListingKey</th>\n",
       "      <th>IncomeRange</th>\n",
       "      <th>IncomeVerifiable</th>\n",
       "      <th>StatedMonthlyIncome</th>\n",
       "    </tr>\n",
       "  </thead>\n",
       "  <tbody>\n",
       "    <tr>\n",
       "      <th>0</th>\n",
       "      <td>1021339766868145413AB3B</td>\n",
       "      <td>$25,000-49,999</td>\n",
       "      <td>True</td>\n",
       "      <td>3083.333333</td>\n",
       "    </tr>\n",
       "    <tr>\n",
       "      <th>1</th>\n",
       "      <td>10273602499503308B223C1</td>\n",
       "      <td>$50,000-74,999</td>\n",
       "      <td>True</td>\n",
       "      <td>6125.000000</td>\n",
       "    </tr>\n",
       "    <tr>\n",
       "      <th>2</th>\n",
       "      <td>0EE9337825851032864889A</td>\n",
       "      <td>Not displayed</td>\n",
       "      <td>True</td>\n",
       "      <td>2083.333333</td>\n",
       "    </tr>\n",
       "    <tr>\n",
       "      <th>3</th>\n",
       "      <td>0EF5356002482715299901A</td>\n",
       "      <td>$25,000-49,999</td>\n",
       "      <td>True</td>\n",
       "      <td>2875.000000</td>\n",
       "    </tr>\n",
       "    <tr>\n",
       "      <th>4</th>\n",
       "      <td>0F023589499656230C5E3E2</td>\n",
       "      <td>$100,000+</td>\n",
       "      <td>True</td>\n",
       "      <td>9583.333333</td>\n",
       "    </tr>\n",
       "  </tbody>\n",
       "</table>\n",
       "</div>"
      ],
      "text/plain": [
       "                ListingKey     IncomeRange  IncomeVerifiable  \\\n",
       "0  1021339766868145413AB3B  $25,000-49,999              True   \n",
       "1  10273602499503308B223C1  $50,000-74,999              True   \n",
       "2  0EE9337825851032864889A   Not displayed              True   \n",
       "3  0EF5356002482715299901A  $25,000-49,999              True   \n",
       "4  0F023589499656230C5E3E2       $100,000+              True   \n",
       "\n",
       "   StatedMonthlyIncome  \n",
       "0          3083.333333  \n",
       "1          6125.000000  \n",
       "2          2083.333333  \n",
       "3          2875.000000  \n",
       "4          9583.333333  "
      ]
     },
     "execution_count": 61,
     "metadata": {},
     "output_type": "execute_result"
    }
   ],
   "source": [
    "# df_Income\n",
    "df_Income.head()"
   ]
  },
  {
   "cell_type": "code",
   "execution_count": 62,
   "metadata": {},
   "outputs": [
    {
     "data": {
      "text/plain": [
       "([0, 1, 2, 3, 4, 5, 6, 7],\n",
       " [Text(0, 0, ''),\n",
       "  Text(0, 0, ''),\n",
       "  Text(0, 0, ''),\n",
       "  Text(0, 0, ''),\n",
       "  Text(0, 0, ''),\n",
       "  Text(0, 0, ''),\n",
       "  Text(0, 0, ''),\n",
       "  Text(0, 0, '')])"
      ]
     },
     "execution_count": 62,
     "metadata": {},
     "output_type": "execute_result"
    },
    {
     "data": {
      "image/png": "[encoded data removed]",
      "text/plain": [
       "<Figure size 432x288 with 1 Axes>"
      ]
     },
     "metadata": {
      "needs_background": "light"
     },
     "output_type": "display_data"
    }
   ],
   "source": [
    "sns.histplot(df_Income.IncomeRange);\n",
    "plt.xticks(rotation = 'vertical')"
   ]
  },
  {
   "cell_type": "markdown",
   "metadata": {},
   "source": []
  },
  {
   "cell_type": "code",
   "execution_count": 63,
   "metadata": {},
   "outputs": [
    {
     "data": {
      "text/html": [
       "<div>\n",
       "<style scoped>\n",
       "    .dataframe tbody tr th:only-of-type {\n",
       "        vertical-align: middle;\n",
       "    }\n",
       "\n",
       "    .dataframe tbody tr th {\n",
       "        vertical-align: top;\n",
       "    }\n",
       "\n",
       "    .dataframe thead th {\n",
       "        text-align: right;\n",
       "    }\n",
       "</style>\n",
       "<table border=\"1\" class=\"dataframe\">\n",
       "  <thead>\n",
       "    <tr style=\"text-align: right;\">\n",
       "      <th></th>\n",
       "      <th>TotalProsperLoans</th>\n",
       "      <th>TotalProsperPaymentsBilled</th>\n",
       "      <th>OnTimeProsperPayments</th>\n",
       "      <th>MonthlyLoanPayment</th>\n",
       "      <th>LP_CustomerPayments</th>\n",
       "      <th>LP_CustomerPrincipalPayments</th>\n",
       "      <th>LP_InterestandFees</th>\n",
       "      <th>LP_ServiceFees</th>\n",
       "      <th>LP_CollectionFees</th>\n",
       "      <th>LP_GrossPrincipalLoss</th>\n",
       "      <th>LP_NetPrincipalLoss</th>\n",
       "      <th>LP_NonPrincipalRecoverypayments</th>\n",
       "    </tr>\n",
       "  </thead>\n",
       "  <tbody>\n",
       "    <tr>\n",
       "      <th>count</th>\n",
       "      <td>113937.000000</td>\n",
       "      <td>113937.000000</td>\n",
       "      <td>113937.000000</td>\n",
       "      <td>113937.000000</td>\n",
       "      <td>113937.000000</td>\n",
       "      <td>113937.000000</td>\n",
       "      <td>113937.000000</td>\n",
       "      <td>113937.000000</td>\n",
       "      <td>113937.000000</td>\n",
       "      <td>113937.000000</td>\n",
       "      <td>113937.000000</td>\n",
       "      <td>113937.000000</td>\n",
       "    </tr>\n",
       "    <tr>\n",
       "      <th>mean</th>\n",
       "      <td>0.275459</td>\n",
       "      <td>4.445483</td>\n",
       "      <td>4.317088</td>\n",
       "      <td>272.475783</td>\n",
       "      <td>4183.079489</td>\n",
       "      <td>3105.536588</td>\n",
       "      <td>1077.542901</td>\n",
       "      <td>-54.725641</td>\n",
       "      <td>-14.242698</td>\n",
       "      <td>700.446342</td>\n",
       "      <td>681.420499</td>\n",
       "      <td>25.142686</td>\n",
       "    </tr>\n",
       "    <tr>\n",
       "      <th>std</th>\n",
       "      <td>0.654774</td>\n",
       "      <td>12.410277</td>\n",
       "      <td>12.093052</td>\n",
       "      <td>192.697812</td>\n",
       "      <td>4790.907234</td>\n",
       "      <td>4069.527670</td>\n",
       "      <td>1183.414168</td>\n",
       "      <td>60.675425</td>\n",
       "      <td>109.232758</td>\n",
       "      <td>2388.513831</td>\n",
       "      <td>2357.167068</td>\n",
       "      <td>275.657937</td>\n",
       "    </tr>\n",
       "    <tr>\n",
       "      <th>min</th>\n",
       "      <td>0.000000</td>\n",
       "      <td>0.000000</td>\n",
       "      <td>0.000000</td>\n",
       "      <td>0.000000</td>\n",
       "      <td>-2.349900</td>\n",
       "      <td>0.000000</td>\n",
       "      <td>-2.349900</td>\n",
       "      <td>-664.870000</td>\n",
       "      <td>-9274.750000</td>\n",
       "      <td>-94.200000</td>\n",
       "      <td>-954.550000</td>\n",
       "      <td>0.000000</td>\n",
       "    </tr>\n",
       "    <tr>\n",
       "      <th>25%</th>\n",
       "      <td>0.000000</td>\n",
       "      <td>0.000000</td>\n",
       "      <td>0.000000</td>\n",
       "      <td>131.620000</td>\n",
       "      <td>1005.760000</td>\n",
       "      <td>500.890000</td>\n",
       "      <td>274.870000</td>\n",
       "      <td>-73.180000</td>\n",
       "      <td>0.000000</td>\n",
       "      <td>0.000000</td>\n",
       "      <td>0.000000</td>\n",
       "      <td>0.000000</td>\n",
       "    </tr>\n",
       "    <tr>\n",
       "      <th>50%</th>\n",
       "      <td>0.000000</td>\n",
       "      <td>0.000000</td>\n",
       "      <td>0.000000</td>\n",
       "      <td>217.740000</td>\n",
       "      <td>2583.830000</td>\n",
       "      <td>1587.500000</td>\n",
       "      <td>700.840100</td>\n",
       "      <td>-34.440000</td>\n",
       "      <td>0.000000</td>\n",
       "      <td>0.000000</td>\n",
       "      <td>0.000000</td>\n",
       "      <td>0.000000</td>\n",
       "    </tr>\n",
       "    <tr>\n",
       "      <th>75%</th>\n",
       "      <td>0.000000</td>\n",
       "      <td>0.000000</td>\n",
       "      <td>0.000000</td>\n",
       "      <td>371.580000</td>\n",
       "      <td>5548.400000</td>\n",
       "      <td>4000.000000</td>\n",
       "      <td>1458.540000</td>\n",
       "      <td>-13.920000</td>\n",
       "      <td>0.000000</td>\n",
       "      <td>0.000000</td>\n",
       "      <td>0.000000</td>\n",
       "      <td>0.000000</td>\n",
       "    </tr>\n",
       "    <tr>\n",
       "      <th>max</th>\n",
       "      <td>8.000000</td>\n",
       "      <td>141.000000</td>\n",
       "      <td>141.000000</td>\n",
       "      <td>2251.510000</td>\n",
       "      <td>40702.390000</td>\n",
       "      <td>35000.000000</td>\n",
       "      <td>15617.030000</td>\n",
       "      <td>32.060000</td>\n",
       "      <td>0.000000</td>\n",
       "      <td>25000.000000</td>\n",
       "      <td>25000.000000</td>\n",
       "      <td>21117.900000</td>\n",
       "    </tr>\n",
       "  </tbody>\n",
       "</table>\n",
       "</div>"
      ],
      "text/plain": [
       "       TotalProsperLoans  TotalProsperPaymentsBilled  OnTimeProsperPayments  \\\n",
       "count      113937.000000               113937.000000          113937.000000   \n",
       "mean            0.275459                    4.445483               4.317088   \n",
       "std             0.654774                   12.410277              12.093052   \n",
       "min             0.000000                    0.000000               0.000000   \n",
       "25%             0.000000                    0.000000               0.000000   \n",
       "50%             0.000000                    0.000000               0.000000   \n",
       "75%             0.000000                    0.000000               0.000000   \n",
       "max             8.000000                  141.000000             141.000000   \n",
       "\n",
       "       MonthlyLoanPayment  LP_CustomerPayments  LP_CustomerPrincipalPayments  \\\n",
       "count       113937.000000        113937.000000                 113937.000000   \n",
       "mean           272.475783          4183.079489                   3105.536588   \n",
       "std            192.697812          4790.907234                   4069.527670   \n",
       "min              0.000000            -2.349900                      0.000000   \n",
       "25%            131.620000          1005.760000                    500.890000   \n",
       "50%            217.740000          2583.830000                   1587.500000   \n",
       "75%            371.580000          5548.400000                   4000.000000   \n",
       "max           2251.510000         40702.390000                  35000.000000   \n",
       "\n",
       "       LP_InterestandFees  LP_ServiceFees  LP_CollectionFees  \\\n",
       "count       113937.000000   113937.000000      113937.000000   \n",
       "mean          1077.542901      -54.725641         -14.242698   \n",
       "std           1183.414168       60.675425         109.232758   \n",
       "min             -2.349900     -664.870000       -9274.750000   \n",
       "25%            274.870000      -73.180000           0.000000   \n",
       "50%            700.840100      -34.440000           0.000000   \n",
       "75%           1458.540000      -13.920000           0.000000   \n",
       "max          15617.030000       32.060000           0.000000   \n",
       "\n",
       "       LP_GrossPrincipalLoss  LP_NetPrincipalLoss  \\\n",
       "count          113937.000000        113937.000000   \n",
       "mean              700.446342           681.420499   \n",
       "std              2388.513831          2357.167068   \n",
       "min               -94.200000          -954.550000   \n",
       "25%                 0.000000             0.000000   \n",
       "50%                 0.000000             0.000000   \n",
       "75%                 0.000000             0.000000   \n",
       "max             25000.000000         25000.000000   \n",
       "\n",
       "       LP_NonPrincipalRecoverypayments  \n",
       "count                    113937.000000  \n",
       "mean                         25.142686  \n",
       "std                         275.657937  \n",
       "min                           0.000000  \n",
       "25%                           0.000000  \n",
       "50%                           0.000000  \n",
       "75%                           0.000000  \n",
       "max                       21117.900000  "
      ]
     },
     "execution_count": 63,
     "metadata": {},
     "output_type": "execute_result"
    }
   ],
   "source": [
    "# df_Payments loan payments \n",
    "df_Payments.describe()"
   ]
  },
  {
   "cell_type": "code",
   "execution_count": 64,
   "metadata": {},
   "outputs": [
    {
     "data": {
      "image/png": "[encoded data removed]",
      "text/plain": [
       "<Figure size 432x288 with 1 Axes>"
      ]
     },
     "metadata": {
      "needs_background": "light"
     },
     "output_type": "display_data"
    }
   ],
   "source": [
    "bins = np.arange(0,141,1)\n",
    "sns.histplot(df_Payments.TotalProsperPaymentsBilled, bins = bins)\n",
    "plt.xlim(1,30)\n",
    "plt.ylim(0,2000)\n",
    "plt.xticks(np.arange(1,30,2));"
   ]
  },
  {
   "cell_type": "code",
   "execution_count": 65,
   "metadata": {},
   "outputs": [
    {
     "data": {
      "image/png": "[encoded data removed]",
      "text/plain": [
       "<Figure size 432x288 with 1 Axes>"
      ]
     },
     "metadata": {
      "needs_background": "light"
     },
     "output_type": "display_data"
    }
   ],
   "source": [
    "bins = np.arange(0,141,1)\n",
    "sns.histplot(df_Payments.OnTimeProsperPayments, bins = bins)\n",
    "plt.xlim(1,30)\n",
    "plt.ylim(0,2000)\n",
    "plt.xticks(np.arange(1,30,2));"
   ]
  },
  {
   "cell_type": "markdown",
   "metadata": {},
   "source": []
  },
  {
   "cell_type": "code",
   "execution_count": 66,
   "metadata": {},
   "outputs": [
    {
     "data": {
      "text/plain": [
       "(Employed         67322\n",
       " Full-time        26355\n",
       " Self-employed     6134\n",
       " Not available     5347\n",
       " Other             3806\n",
       " Part-time         1088\n",
       " Not employed       835\n",
       " Retired            795\n",
       " Name: EmploymentStatus, dtype: int64,\n",
       " Employed         67322\n",
       " Full-time        26355\n",
       " Self-employed     6134\n",
       " Not available     5347\n",
       " Other             3806\n",
       " Part-time         1088\n",
       " Not employed       835\n",
       " Retired            795\n",
       " Name: EmploymentStatus, dtype: int64)"
      ]
     },
     "execution_count": 66,
     "metadata": {},
     "output_type": "execute_result"
    }
   ],
   "source": [
    "# df_Employment\n",
    "df_Employment.EmploymentStatus.value_counts(), df.EmploymentStatus.value_counts()"
   ]
  },
  {
   "cell_type": "code",
   "execution_count": 67,
   "metadata": {},
   "outputs": [
    {
     "data": {
      "image/png": "[encoded data removed]",
      "text/plain": [
       "<Figure size 432x288 with 1 Axes>"
      ]
     },
     "metadata": {
      "needs_background": "light"
     },
     "output_type": "display_data"
    }
   ],
   "source": [
    "sns.histplot(y = df_Employment.Occupation)\n",
    "sns.set(rc={'figure.figsize':(50,20)})"
   ]
  },
  {
   "cell_type": "code",
   "execution_count": 68,
   "metadata": {},
   "outputs": [
    {
     "name": "stdout",
     "output_type": "stream",
     "text": [
      "<class 'pandas.core.frame.DataFrame'>\n",
      "RangeIndex: 113937 entries, 0 to 113936\n",
      "Data columns (total 4 columns):\n",
      " #   Column                    Non-Null Count   Dtype   \n",
      "---  ------                    --------------   -----   \n",
      " 0   ListingKey                113937 non-null  object  \n",
      " 1   Occupation                113937 non-null  object  \n",
      " 2   EmploymentStatus          113937 non-null  category\n",
      " 3   EmploymentStatusDuration  106312 non-null  float64 \n",
      "dtypes: category(1), float64(1), object(2)\n",
      "memory usage: 2.7+ MB\n"
     ]
    }
   ],
   "source": [
    "# Fix datatype for employment status and fill nas\n",
    "df_Employment.EmploymentStatus.fillna(value = 'Not available', inplace = True)\n",
    "df_Employment.EmploymentStatus = df_Employment.EmploymentStatus.astype(empstat)\n",
    "df_Employment.info()"
   ]
  },
  {
   "cell_type": "code",
   "execution_count": 69,
   "metadata": {},
   "outputs": [
    {
     "data": {
      "image/png": "[encoded data removed]",
      "text/plain": [
       "<Figure size 3600x1440 with 1 Axes>"
      ]
     },
     "metadata": {},
     "output_type": "display_data"
    }
   ],
   "source": [
    "sns.histplot(df_Employment.EmploymentStatus)\n",
    "sns.set(rc={'figure.figsize':(8,5)})"
   ]
  },
  {
   "cell_type": "markdown",
   "metadata": {},
   "source": []
  },
  {
   "cell_type": "markdown",
   "metadata": {},
   "source": [
    "### Begin bivariate exploration. \n",
    "#### Questions to ask for this:"
   ]
  },
  {
   "cell_type": "code",
   "execution_count": 70,
   "metadata": {},
   "outputs": [
    {
     "data": {
      "text/plain": [
       "Employed         67322\n",
       "Full-time        26355\n",
       "Self-employed     6134\n",
       "Not available     5347\n",
       "Other             3806\n",
       "Part-time         1088\n",
       "Not employed       835\n",
       "Retired            795\n",
       "Name: EmploymentStatus, dtype: int64"
      ]
     },
     "execution_count": 70,
     "metadata": {},
     "output_type": "execute_result"
    }
   ],
   "source": [
    "df.EmploymentStatus.value_counts()"
   ]
  },
  {
   "cell_type": "code",
   "execution_count": null,
   "metadata": {},
   "outputs": [],
   "source": []
  }
 ],
 "metadata": {
  "kernelspec": {
   "display_name": "Python 3",
   "language": "python",
   "name": "python3"
  },
  "language_info": {
   "codemirror_mode": {
    "name": "ipython",
    "version": 3
   },
   "file_extension": ".py",
   "mimetype": "text/x-python",
   "name": "python",
   "nbconvert_exporter": "python",
   "pygments_lexer": "ipython3",
   "version": "3.8.5"
  }
 },
 "nbformat": 4,
 "nbformat_minor": 4
}
